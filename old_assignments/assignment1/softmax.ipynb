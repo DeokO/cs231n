{
 "cells": [
  {
   "cell_type": "markdown",
   "metadata": {},
   "source": [
    "# Softmax exercise\n",
    "\n",
    "*Complete and hand in this completed worksheet (including its outputs and any supporting code outside of the worksheet) with your assignment submission. For more details see the [assignments page](http://vision.stanford.edu/teaching/cs231n/assignments.html) on the course website.*\n",
    "\n",
    "This exercise is analogous to the SVM exercise. You will:\n",
    "\n",
    "- implement a fully-vectorized **loss function** for the Softmax classifier\n",
    "- implement the fully-vectorized expression for its **analytic gradient**\n",
    "- **check your implementation** with numerical gradient\n",
    "- use a validation set to **tune the learning rate and regularization** strength\n",
    "- **optimize** the loss function with **SGD**\n",
    "- **visualize** the final learned weights\n"
   ]
  },
  {
   "cell_type": "code",
   "execution_count": 1,
   "metadata": {
    "collapsed": false
   },
   "outputs": [
    {
     "name": "stderr",
     "output_type": "stream",
     "text": [
      "Vendor:  Continuum Analytics, Inc.\n",
      "Package: mkl\n",
      "Message: trial mode expires in 30 days\n"
     ]
    }
   ],
   "source": [
    "import random\n",
    "import numpy as np\n",
    "from cs231n.data_utils import load_CIFAR10\n",
    "import matplotlib.pyplot as plt\n",
    "%matplotlib inline\n",
    "plt.rcParams['figure.figsize'] = (10.0, 8.0) # set default size of plots\n",
    "plt.rcParams['image.interpolation'] = 'nearest'\n",
    "plt.rcParams['image.cmap'] = 'gray'\n",
    "\n",
    "# for auto-reloading extenrnal modules\n",
    "# see http://stackoverflow.com/questions/1907993/autoreload-of-modules-in-ipython\n",
    "%load_ext autoreload\n",
    "%autoreload 2"
   ]
  },
  {
   "cell_type": "code",
   "execution_count": 2,
   "metadata": {
    "collapsed": false
   },
   "outputs": [
    {
     "name": "stdout",
     "output_type": "stream",
     "text": [
      "Train data shape:  (3073, 49000)\n",
      "Train labels shape:  (49000,)\n",
      "Validation data shape:  (3073, 1000)\n",
      "Validation labels shape:  (1000,)\n",
      "Test data shape:  (3073, 1000)\n",
      "Test labels shape:  (1000,)\n"
     ]
    }
   ],
   "source": [
    "def get_CIFAR10_data(num_training=49000, num_validation=1000, num_test=1000):\n",
    "    \"\"\"\n",
    "    Load the CIFAR-10 dataset from disk and perform preprocessing to prepare\n",
    "    it for the linear classifier. These are the same steps as we used for the\n",
    "    SVM, but condensed to a single function.  \n",
    "    \"\"\"\n",
    "    # Load the raw CIFAR-10 data\n",
    "    cifar10_dir = 'cs231n/datasets/cifar-10-batches-py'\n",
    "    X_train, y_train, X_test, y_test = load_CIFAR10(cifar10_dir)\n",
    "\n",
    "    # subsample the data\n",
    "    mask = range(num_training, num_training + num_validation)\n",
    "    X_val = X_train[mask]\n",
    "    y_val = y_train[mask]\n",
    "    mask = range(num_training)\n",
    "    X_train = X_train[mask]\n",
    "    y_train = y_train[mask]\n",
    "    mask = range(num_test)\n",
    "    X_test = X_test[mask]\n",
    "    y_test = y_test[mask]\n",
    "\n",
    "    # Preprocessing: reshape the image data into rows\n",
    "    X_train = np.reshape(X_train, (X_train.shape[0], -1))\n",
    "    X_val = np.reshape(X_val, (X_val.shape[0], -1))\n",
    "    X_test = np.reshape(X_test, (X_test.shape[0], -1))\n",
    "\n",
    "    # Normalize the data: subtract the mean image\n",
    "    mean_image = np.mean(X_train, axis = 0)\n",
    "    X_train -= mean_image\n",
    "    X_val -= mean_image\n",
    "    X_test -= mean_image\n",
    "\n",
    "    # add bias dimension and transform into columns\n",
    "    X_train = np.hstack([X_train, np.ones((X_train.shape[0], 1))]).T\n",
    "    X_val = np.hstack([X_val, np.ones((X_val.shape[0], 1))]).T\n",
    "    X_test = np.hstack([X_test, np.ones((X_test.shape[0], 1))]).T\n",
    "\n",
    "    return X_train, y_train, X_val, y_val, X_test, y_test\n",
    "\n",
    "\n",
    "# Invoke the above function to get our data.\n",
    "X_train, y_train, X_val, y_val, X_test, y_test = get_CIFAR10_data()\n",
    "print( 'Train data shape: ', X_train.shape)\n",
    "print( 'Train labels shape: ', y_train.shape)\n",
    "print( 'Validation data shape: ', X_val.shape)\n",
    "print( 'Validation labels shape: ', y_val.shape)\n",
    "print( 'Test data shape: ', X_test.shape)\n",
    "print( 'Test labels shape: ', y_test.shape)"
   ]
  },
  {
   "cell_type": "markdown",
   "metadata": {},
   "source": [
    "## Softmax Classifier\n",
    "\n",
    "Your code for this section will all be written inside **cs231n/classifiers/softmax.py**. \n"
   ]
  },
  {
   "cell_type": "code",
   "execution_count": 3,
   "metadata": {
    "collapsed": false
   },
   "outputs": [
    {
     "name": "stdout",
     "output_type": "stream",
     "text": [
      "loss: 2.340258\n",
      "sanity check: 2.302585\n"
     ]
    }
   ],
   "source": [
    "# First implement the naive softmax loss function with nested loops.\n",
    "# Open the file cs231n/classifiers/softmax.py and implement the\n",
    "# softmax_loss_naive function.\n",
    "\n",
    "from cs231n.classifiers.softmax import softmax_loss_naive, softmax_loss_vectorized\n",
    "import time\n",
    "\n",
    "# Generate a random softmax weight matrix and use it to compute the loss.\n",
    "W = np.random.randn(10, 3073) * 0.0001\n",
    "loss, grad = softmax_loss_naive(W, X_train, y_train, 0.0)\n",
    "\n",
    "# As a rough sanity check, our loss should be something close to -log(0.1).\n",
    "print( 'loss: %f' % loss)\n",
    "print( 'sanity check: %f' % (-np.log(0.1)))"
   ]
  },
  {
   "cell_type": "markdown",
   "metadata": {},
   "source": [
    "## Inline Question 1:\n",
    "Why do we expect our loss to be close to -log(0.1)? Explain briefly.**\n",
    "\n",
    "**Your answer:** *Fill this in*\n"
   ]
  },
  {
   "cell_type": "code",
   "execution_count": 4,
   "metadata": {
    "collapsed": false
   },
   "outputs": [
    {
     "name": "stdout",
     "output_type": "stream",
     "text": [
      "numerical: 1.981076 analytic: 1.981076, relative error: 1.461026e-08\n",
      "numerical: 1.390271 analytic: 1.390271, relative error: 2.496657e-08\n",
      "numerical: -0.635083 analytic: -0.635083, relative error: 1.184079e-07\n",
      "numerical: -0.864397 analytic: -0.864397, relative error: 2.727239e-08\n",
      "numerical: 0.818801 analytic: 0.818801, relative error: 1.491377e-08\n",
      "numerical: 1.373070 analytic: 1.373070, relative error: 7.185338e-09\n",
      "numerical: -0.662988 analytic: -0.662988, relative error: 4.466755e-08\n",
      "numerical: 0.415578 analytic: 0.415578, relative error: 1.091772e-07\n",
      "numerical: -2.934708 analytic: -2.934708, relative error: 4.484113e-11\n",
      "numerical: 0.863196 analytic: 0.863196, relative error: 8.703629e-08\n"
     ]
    }
   ],
   "source": [
    "# Complete the implementation of softmax_loss_naive and implement a (naive)\n",
    "# version of the gradient that uses nested loops.\n",
    "loss, grad = softmax_loss_naive(W, X_train, y_train, 0.0)\n",
    "\n",
    "# As we did for the SVM, use numeric gradient checking as a debugging tool.\n",
    "# The numeric gradient should be close to the analytic gradient.\n",
    "from cs231n.gradient_check import grad_check_sparse\n",
    "f = lambda w: softmax_loss_naive(w, X_train, y_train, 0.0)[0]\n",
    "grad_numerical = grad_check_sparse(f, W, grad, 10)"
   ]
  },
  {
   "cell_type": "code",
   "execution_count": 5,
   "metadata": {
    "collapsed": false
   },
   "outputs": [
    {
     "name": "stdout",
     "output_type": "stream",
     "text": [
      "numerical: -3.957842 analytic: -3.957842, relative error: 1.252003e-08\n",
      "numerical: 0.218653 analytic: 0.218653, relative error: 6.035017e-08\n",
      "numerical: -5.164249 analytic: -5.164249, relative error: 6.516191e-09\n",
      "numerical: 0.354666 analytic: 0.354666, relative error: 1.744442e-08\n",
      "numerical: 1.119713 analytic: 1.119713, relative error: 3.722823e-08\n",
      "numerical: 3.644176 analytic: 3.644176, relative error: 1.064213e-08\n",
      "numerical: 3.993082 analytic: 3.993082, relative error: 7.254485e-09\n",
      "numerical: -5.430327 analytic: -5.430327, relative error: 4.193428e-09\n",
      "numerical: 0.112361 analytic: 0.112361, relative error: 3.155058e-07\n",
      "numerical: -1.559819 analytic: -1.559819, relative error: 2.015316e-08\n"
     ]
    }
   ],
   "source": [
    "# Complete the implementation of softmax_loss_naive and implement a (naive)\n",
    "# version of the gradient that uses nested loops.\n",
    "loss, grad = softmax_loss_vectorized(W, X_train, y_train, 0.0)\n",
    "\n",
    "# As we did for the SVM, use numeric gradient checking as a debugging tool.\n",
    "# The numeric gradient should be close to the analytic gradient.\n",
    "from cs231n.gradient_check import grad_check_sparse\n",
    "f = lambda w: softmax_loss_vectorized(w, X_train, y_train, 0.0)[0]\n",
    "grad_numerical = grad_check_sparse(f, W, grad, 10)"
   ]
  },
  {
   "cell_type": "code",
   "execution_count": 6,
   "metadata": {
    "collapsed": false
   },
   "outputs": [
    {
     "name": "stdout",
     "output_type": "stream",
     "text": [
      "naive loss: 2.340258e+00 computed in 6.613672s\n",
      "vectorized loss: 2.340258e+00 computed in 0.387274s\n",
      "Loss difference: 0.000000\n",
      "Gradient difference: 0.000000\n"
     ]
    }
   ],
   "source": [
    "# Now that we have a naive implementation of the softmax loss function and its gradient,\n",
    "# implement a vectorized version in softmax_loss_vectorized.\n",
    "# The two versions should compute the same results, but the vectorized version should be\n",
    "# much faster.\n",
    "tic = time.time()\n",
    "loss_naive, grad_naive = softmax_loss_naive(W, X_train, y_train, 0.00001)\n",
    "toc = time.time()\n",
    "print( 'naive loss: %e computed in %fs' % (loss_naive, toc - tic))\n",
    "\n",
    "from cs231n.classifiers.softmax import softmax_loss_vectorized\n",
    "tic = time.time()\n",
    "loss_vectorized, grad_vectorized = softmax_loss_vectorized(W, X_train, y_train, 0.00001)\n",
    "toc = time.time()\n",
    "print( 'vectorized loss: %e computed in %fs' % (loss_vectorized, toc - tic))\n",
    "\n",
    "# As we did for the SVM, we use the Frobenius norm to compare the two versions\n",
    "# of the gradient.\n",
    "grad_difference = np.linalg.norm(grad_naive - grad_vectorized, ord='fro')\n",
    "print( 'Loss difference: %f' % np.abs(loss_naive - loss_vectorized))\n",
    "print( 'Gradient difference: %f' % grad_difference)"
   ]
  },
  {
   "cell_type": "code",
   "execution_count": 7,
   "metadata": {
    "collapsed": false
   },
   "outputs": [
    {
     "name": "stdout",
     "output_type": "stream",
     "text": [
      "iteration 0 / 5000: loss 776.338453\n",
      "iteration 100 / 5000: loss 284.982179\n",
      "iteration 200 / 5000: loss 105.478227\n",
      "iteration 300 / 5000: loss 39.978714\n",
      "iteration 400 / 5000: loss 15.943003\n",
      "iteration 500 / 5000: loss 7.144821\n",
      "iteration 600 / 5000: loss 3.943755\n",
      "iteration 700 / 5000: loss 2.759077\n",
      "iteration 800 / 5000: loss 2.370629\n",
      "iteration 900 / 5000: loss 2.210004\n",
      "iteration 1000 / 5000: loss 2.101182\n",
      "iteration 1100 / 5000: loss 2.098887\n",
      "iteration 1200 / 5000: loss 2.064567\n",
      "iteration 1300 / 5000: loss 2.152261\n",
      "iteration 1400 / 5000: loss 2.035803\n",
      "iteration 1500 / 5000: loss 2.083781\n",
      "iteration 1600 / 5000: loss 2.076320\n",
      "iteration 1700 / 5000: loss 2.102622\n",
      "iteration 1800 / 5000: loss 2.012783\n",
      "iteration 1900 / 5000: loss 2.062117\n",
      "iteration 2000 / 5000: loss 2.035951\n",
      "iteration 2100 / 5000: loss 2.077362\n",
      "iteration 2200 / 5000: loss 2.143536\n",
      "iteration 2300 / 5000: loss 2.087078\n",
      "iteration 2400 / 5000: loss 2.038925\n",
      "iteration 2500 / 5000: loss 2.014568\n",
      "iteration 2600 / 5000: loss 2.149670\n",
      "iteration 2700 / 5000: loss 2.071455\n",
      "iteration 2800 / 5000: loss 2.099010\n",
      "iteration 2900 / 5000: loss 2.069613\n",
      "iteration 3000 / 5000: loss 2.052315\n",
      "iteration 3100 / 5000: loss 2.070285\n",
      "iteration 3200 / 5000: loss 2.059600\n",
      "iteration 3300 / 5000: loss 2.068393\n",
      "iteration 3400 / 5000: loss 2.106404\n",
      "iteration 3500 / 5000: loss 2.092039\n",
      "iteration 3600 / 5000: loss 2.063892\n",
      "iteration 3700 / 5000: loss 2.133425\n",
      "iteration 3800 / 5000: loss 2.043449\n",
      "iteration 3900 / 5000: loss 2.080594\n",
      "iteration 4000 / 5000: loss 2.116985\n",
      "iteration 4100 / 5000: loss 2.070444\n",
      "iteration 4200 / 5000: loss 2.083741\n",
      "iteration 4300 / 5000: loss 2.086362\n",
      "iteration 4400 / 5000: loss 2.061187\n",
      "iteration 4500 / 5000: loss 2.105730\n",
      "iteration 4600 / 5000: loss 2.080447\n",
      "iteration 4700 / 5000: loss 2.076246\n",
      "iteration 4800 / 5000: loss 2.019768\n",
      "iteration 4900 / 5000: loss 2.085369\n"
     ]
    }
   ],
   "source": [
    "#Test Train the softmax classifier\n",
    "from cs231n.classifiers import Softmax\n",
    "\n",
    "softmax = Softmax()\n",
    "loss_hist = softmax.train(X_train, y_train, learning_rate=1e-7, reg=5e4, num_iters=5000, verbose=True)"
   ]
  },
  {
   "cell_type": "code",
   "execution_count": 8,
   "metadata": {
    "collapsed": false
   },
   "outputs": [
    {
     "name": "stdout",
     "output_type": "stream",
     "text": [
      "training accuracy: 0.332082\n",
      "validation accuracy: 0.342000\n"
     ]
    },
    {
     "data": {
      "image/png": "[encoded data removed]",
      "text/plain": [
       "<matplotlib.figure.Figure at 0xb3b68417f0>"
      ]
     },
     "metadata": {},
     "output_type": "display_data"
    }
   ],
   "source": [
    "# Write the LinearSVM.predict function and evaluate the performance on both the\n",
    "# training and validation set\n",
    "plt.plot(loss_hist)\n",
    "plt.xlabel('Iteration number')\n",
    "plt.ylabel('Loss value')\n",
    "\n",
    "y_train_pred = softmax.predict(X_train)\n",
    "print( 'training accuracy: %f' % (np.mean(y_train == y_train_pred), ))\n",
    "y_val_pred = softmax.predict(X_val)\n",
    "print( 'validation accuracy: %f' % (np.mean(y_val == y_val_pred), ))"
   ]
  },
  {
   "cell_type": "code",
   "execution_count": 9,
   "metadata": {
    "collapsed": false
   },
   "outputs": [
    {
     "name": "stdout",
     "output_type": "stream",
     "text": [
      "finished learning rate =  1e-10 \t regularization strength =  100.0\n",
      "finished learning rate =  1e-10 \t regularization strength =  562.34132519\n",
      "finished learning rate =  1e-10 \t regularization strength =  3162.27766017\n",
      "finished learning rate =  1e-10 \t regularization strength =  17782.7941004\n",
      "finished learning rate =  1e-10 \t regularization strength =  100000.0\n",
      "finished learning rate =  1e-09 \t regularization strength =  100.0\n",
      "finished learning rate =  1e-09 \t regularization strength =  562.34132519\n",
      "finished learning rate =  1e-09 \t regularization strength =  3162.27766017\n",
      "finished learning rate =  1e-09 \t regularization strength =  17782.7941004\n",
      "finished learning rate =  1e-09 \t regularization strength =  100000.0\n",
      "finished learning rate =  1e-08 \t regularization strength =  100.0\n",
      "finished learning rate =  1e-08 \t regularization strength =  562.34132519\n",
      "finished learning rate =  1e-08 \t regularization strength =  3162.27766017\n",
      "finished learning rate =  1e-08 \t regularization strength =  17782.7941004\n",
      "finished learning rate =  1e-08 \t regularization strength =  100000.0\n",
      "finished learning rate =  1e-07 \t regularization strength =  100.0\n",
      "finished learning rate =  1e-07 \t regularization strength =  562.34132519\n",
      "finished learning rate =  1e-07 \t regularization strength =  3162.27766017\n",
      "finished learning rate =  1e-07 \t regularization strength =  17782.7941004\n",
      "finished learning rate =  1e-07 \t regularization strength =  100000.0\n",
      "finished learning rate =  1e-06 \t regularization strength =  100.0\n",
      "finished learning rate =  1e-06 \t regularization strength =  562.34132519\n",
      "finished learning rate =  1e-06 \t regularization strength =  3162.27766017\n",
      "finished learning rate =  1e-06 \t regularization strength =  17782.7941004\n",
      "finished learning rate =  1e-06 \t regularization strength =  100000.0\n",
      "lr 1.000000e-10 reg 1.000000e+02 train accuracy: 0.090245 val accuracy: 0.104000\n",
      "lr 1.000000e-10 reg 5.623413e+02 train accuracy: 0.080327 val accuracy: 0.088000\n",
      "lr 1.000000e-10 reg 3.162278e+03 train accuracy: 0.129776 val accuracy: 0.141000\n",
      "lr 1.000000e-10 reg 1.778279e+04 train accuracy: 0.093245 val accuracy: 0.107000\n",
      "lr 1.000000e-10 reg 1.000000e+05 train accuracy: 0.114306 val accuracy: 0.116000\n",
      "lr 1.000000e-09 reg 1.000000e+02 train accuracy: 0.110714 val accuracy: 0.101000\n",
      "lr 1.000000e-09 reg 5.623413e+02 train accuracy: 0.110735 val accuracy: 0.098000\n",
      "lr 1.000000e-09 reg 3.162278e+03 train accuracy: 0.119367 val accuracy: 0.119000\n",
      "lr 1.000000e-09 reg 1.778279e+04 train accuracy: 0.096816 val accuracy: 0.087000\n",
      "lr 1.000000e-09 reg 1.000000e+05 train accuracy: 0.125816 val accuracy: 0.147000\n",
      "lr 1.000000e-08 reg 1.000000e+02 train accuracy: 0.170714 val accuracy: 0.185000\n",
      "lr 1.000000e-08 reg 5.623413e+02 train accuracy: 0.188694 val accuracy: 0.204000\n",
      "lr 1.000000e-08 reg 3.162278e+03 train accuracy: 0.175143 val accuracy: 0.194000\n",
      "lr 1.000000e-08 reg 1.778279e+04 train accuracy: 0.202816 val accuracy: 0.194000\n",
      "lr 1.000000e-08 reg 1.000000e+05 train accuracy: 0.294429 val accuracy: 0.301000\n",
      "lr 1.000000e-07 reg 1.000000e+02 train accuracy: 0.277673 val accuracy: 0.298000\n",
      "lr 1.000000e-07 reg 5.623413e+02 train accuracy: 0.288776 val accuracy: 0.285000\n",
      "lr 1.000000e-07 reg 3.162278e+03 train accuracy: 0.336184 val accuracy: 0.323000\n",
      "lr 1.000000e-07 reg 1.778279e+04 train accuracy: 0.361592 val accuracy: 0.374000\n",
      "lr 1.000000e-07 reg 1.000000e+05 train accuracy: 0.304776 val accuracy: 0.319000\n",
      "lr 1.000000e-06 reg 1.000000e+02 train accuracy: 0.390837 val accuracy: 0.374000\n",
      "lr 1.000000e-06 reg 5.623413e+02 train accuracy: 0.416143 val accuracy: 0.402000\n",
      "lr 1.000000e-06 reg 3.162278e+03 train accuracy: 0.391000 val accuracy: 0.392000\n",
      "lr 1.000000e-06 reg 1.778279e+04 train accuracy: 0.348327 val accuracy: 0.353000\n",
      "lr 1.000000e-06 reg 1.000000e+05 train accuracy: 0.304755 val accuracy: 0.302000\n",
      "best validation accuracy achieved during cross-validation: 0.402000\n"
     ]
    }
   ],
   "source": [
    "# Use the validation set to tune hyperparameters (regularization strength and\n",
    "# learning rate). You should experiment with different ranges for the learning\n",
    "# rates and regularization strengths; if you are careful you should be able to\n",
    "# get a classification accuracy of over 0.35 on the validation set.\n",
    "from cs231n.classifiers import Softmax\n",
    "results = {}\n",
    "best_val = -1\n",
    "best_softmax = None\n",
    "learning_rates = np.logspace(-10, -6, 5)\n",
    "#[1e-7, 5e-7]\n",
    "regularization_strengths = np.logspace(2, 5, 5)\n",
    "#[5e4, 1e8]\n",
    "\n",
    "################################################################################\n",
    "# TODO:                                                                        #\n",
    "# Use the validation set to set the learning rate and regularization strength. #\n",
    "# This should be identical to the validation that you did for the SVM; save    #\n",
    "# the best trained softmax classifer in best_softmax.                          #\n",
    "################################################################################\n",
    "iterations = 3000\n",
    "\n",
    "import copy\n",
    "\n",
    "for lr in learning_rates:\n",
    "    for rs in regularization_strengths:\n",
    "        softmax = Softmax()\n",
    "        softmax.train(X_train, y_train, learning_rate=lr, reg=rs, num_iters=iterations)\n",
    "        \n",
    "        y_train_pred = softmax.predict(X_train)\n",
    "        y_val_pred   = softmax.predict(X_val)\n",
    "        \n",
    "        accuracy_train = np.mean(y_train == y_train_pred)\n",
    "        accuracy_valid = np.mean(y_val   == y_val_pred)\n",
    "        \n",
    "        results[(lr,rs)] = accuracy_train, accuracy_valid\n",
    "        print('finished learning rate = ',lr, '\\t regularization strength = ',rs)\n",
    "        \n",
    "        if best_val < accuracy_valid:\n",
    "            best_val = accuracy_valid\n",
    "            best_softmax = copy.deepcopy(softmax)\n",
    "        \n",
    "################################################################################\n",
    "#                              END OF YOUR CODE                                #\n",
    "################################################################################\n",
    "    \n",
    "# Print out results.\n",
    "for lr, reg in sorted(results):\n",
    "    train_accuracy, val_accuracy = results[(lr, reg)]\n",
    "    print( 'lr %e reg %e train accuracy: %f val accuracy: %f' % (\n",
    "                lr, reg, train_accuracy, val_accuracy))\n",
    "    \n",
    "print( 'best validation accuracy achieved during cross-validation: %f' % best_val)"
   ]
  },
  {
   "cell_type": "code",
   "execution_count": 10,
   "metadata": {
    "collapsed": false
   },
   "outputs": [
    {
     "name": "stdout",
     "output_type": "stream",
     "text": [
      "softmax on raw pixels final test set accuracy: 0.386000\n"
     ]
    }
   ],
   "source": [
    "# evaluate on test set\n",
    "# Evaluate the best svm on test set\n",
    "y_test_pred = best_softmax.predict(X_test)\n",
    "test_accuracy = np.mean(y_test == y_test_pred)\n",
    "print( 'softmax on raw pixels final test set accuracy: %f' % (test_accuracy, ))"
   ]
  },
  {
   "cell_type": "code",
   "execution_count": 11,
   "metadata": {
    "collapsed": false
   },
   "outputs": [
    {
     "data": {
      "image/png": "[encoded data removed]",
      "text/plain": [
       "<matplotlib.figure.Figure at 0xb380f09240>"
      ]
     },
     "metadata": {},
     "output_type": "display_data"
    }
   ],
   "source": [
    "# Visualize the learned weights for each class\n",
    "w = best_softmax.W[:,:-1] # strip out the bias\n",
    "w = w.reshape(10, 32, 32, 3)\n",
    "\n",
    "w_min, w_max = np.min(w), np.max(w)\n",
    "\n",
    "classes = ['plane', 'car', 'bird', 'cat', 'deer', 'dog', 'frog', 'horse', 'ship', 'truck']\n",
    "for i in range(10):\n",
    "    plt.subplot(2, 5, i + 1)\n",
    "\n",
    "    # Rescale the weights to be between 0 and 255\n",
    "    wimg = 255.0 * (w[i].squeeze() - w_min) / (w_max - w_min)\n",
    "    plt.imshow(wimg.astype('uint8'))\n",
    "    plt.axis('off')\n",
    "    plt.title(classes[i])"
   ]
  },
  {
   "cell_type": "code",
   "execution_count": null,
   "metadata": {
    "collapsed": true
   },
   "outputs": [],
   "source": []
  }
 ],
 "metadata": {
  "kernelspec": {
   "display_name": "Python 3",
   "language": "python",
   "name": "python3"
  },
  "language_info": {
   "codemirror_mode": {
    "name": "ipython",
    "version": 3
   },
   "file_extension": ".py",
   "mimetype": "text/x-python",
   "name": "python",
   "nbconvert_exporter": "python",
   "pygments_lexer": "ipython3",
   "version": "3.5.1"
  }
 },
 "nbformat": 4,
 "nbformat_minor": 0
}
