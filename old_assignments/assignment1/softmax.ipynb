{
 "cells": [
  {
   "cell_type": "markdown",
   "metadata": {},
   "source": [
    "# Softmax exercise\n",
    "\n",
    "*Complete and hand in this completed worksheet (including its outputs and any supporting code outside of the worksheet) with your assignment submission. For more details see the [assignments page](http://vision.stanford.edu/teaching/cs231n/assignments.html) on the course website.*\n",
    "\n",
    "This exercise is analogous to the SVM exercise. You will:\n",
    "\n",
    "- implement a fully-vectorized **loss function** for the Softmax classifier\n",
    "- implement the fully-vectorized expression for its **analytic gradient**\n",
    "- **check your implementation** with numerical gradient\n",
    "- use a validation set to **tune the learning rate and regularization** strength\n",
    "- **optimize** the loss function with **SGD**\n",
    "- **visualize** the final learned weights\n"
   ]
  },
  {
   "cell_type": "code",
   "execution_count": 1,
   "metadata": {
    "collapsed": false
   },
   "outputs": [],
   "source": [
    "import random\n",
    "import numpy as np\n",
    "from cs231n.data_utils import load_CIFAR10\n",
    "import matplotlib.pyplot as plt\n",
    "\n",
    "# This is a bit of magic to make matplotlib figures appear inline in the notebook\n",
    "# rather than in a new window.\n",
    "%matplotlib inline\n",
    "plt.rcParams['figure.figsize'] = (10.0, 8.0) # set default size of plots\n",
    "plt.rcParams['image.interpolation'] = 'nearest'\n",
    "plt.rcParams['image.cmap'] = 'gray'\n",
    "\n",
    "import pandas as pd\n",
    "import seaborn as sns\n",
    "sns.set_style('darkgrid')\n",
    "sns.set_context(\"notebook\", font_scale=1.15, rc={\"lines.linewidth\": 2.5})\n",
    "\n",
    "# for auto-reloading extenrnal modules\n",
    "# see http://stackoverflow.com/questions/1907993/autoreload-of-modules-in-ipython\n",
    "%load_ext autoreload\n",
    "%autoreload 2"
   ]
  },
  {
   "cell_type": "code",
   "execution_count": 2,
   "metadata": {
    "collapsed": false
   },
   "outputs": [
    {
     "name": "stdout",
     "output_type": "stream",
     "text": [
      "Train data shape:  (3073, 49000)\n",
      "Train labels shape:  (49000,)\n",
      "Validation data shape:  (3073, 1000)\n",
      "Validation labels shape:  (1000,)\n",
      "Test data shape:  (3073, 1000)\n",
      "Test labels shape:  (1000,)\n"
     ]
    }
   ],
   "source": [
    "def get_CIFAR10_data(num_training=49000, num_validation=1000, num_test=1000):\n",
    "    \"\"\"\n",
    "    Load the CIFAR-10 dataset from disk and perform preprocessing to prepare\n",
    "    it for the linear classifier. These are the same steps as we used for the\n",
    "    SVM, but condensed to a single function.  \n",
    "    \"\"\"\n",
    "    # Load the raw CIFAR-10 data\n",
    "    cifar10_dir = 'cs231n/datasets/cifar-10-batches-py'\n",
    "    X_train, y_train, X_test, y_test = load_CIFAR10(cifar10_dir)\n",
    "\n",
    "    # subsample the data\n",
    "    mask = range(num_training, num_training + num_validation)\n",
    "    X_val = X_train[mask]\n",
    "    y_val = y_train[mask]\n",
    "    mask = range(num_training)\n",
    "    X_train = X_train[mask]\n",
    "    y_train = y_train[mask]\n",
    "    mask = range(num_test)\n",
    "    X_test = X_test[mask]\n",
    "    y_test = y_test[mask]\n",
    "\n",
    "    # Preprocessing: reshape the image data into rows\n",
    "    X_train = np.reshape(X_train, (X_train.shape[0], -1))\n",
    "    X_val = np.reshape(X_val, (X_val.shape[0], -1))\n",
    "    X_test = np.reshape(X_test, (X_test.shape[0], -1))\n",
    "\n",
    "    # Normalize the data: subtract the mean image\n",
    "    mean_image = np.mean(X_train, axis = 0)\n",
    "    X_train -= mean_image\n",
    "    X_val -= mean_image\n",
    "    X_test -= mean_image\n",
    "\n",
    "    # add bias dimension and transform into columns\n",
    "    X_train = np.hstack([X_train, np.ones((X_train.shape[0], 1))]).T\n",
    "    X_val = np.hstack([X_val, np.ones((X_val.shape[0], 1))]).T\n",
    "    X_test = np.hstack([X_test, np.ones((X_test.shape[0], 1))]).T\n",
    "\n",
    "    return X_train, y_train, X_val, y_val, X_test, y_test\n",
    "\n",
    "\n",
    "# Invoke the above function to get our data.\n",
    "X_train, y_train, X_val, y_val, X_test, y_test = get_CIFAR10_data()\n",
    "print( 'Train data shape: ', X_train.shape)\n",
    "print( 'Train labels shape: ', y_train.shape)\n",
    "print( 'Validation data shape: ', X_val.shape)\n",
    "print( 'Validation labels shape: ', y_val.shape)\n",
    "print( 'Test data shape: ', X_test.shape)\n",
    "print( 'Test labels shape: ', y_test.shape)"
   ]
  },
  {
   "cell_type": "markdown",
   "metadata": {},
   "source": [
    "## Softmax Classifier\n",
    "\n",
    "Your code for this section will all be written inside **cs231n/classifiers/softmax.py**. \n"
   ]
  },
  {
   "cell_type": "code",
   "execution_count": 3,
   "metadata": {
    "collapsed": false
   },
   "outputs": [
    {
     "name": "stdout",
     "output_type": "stream",
     "text": [
      "loss: 2.455747\n",
      "sanity check: 2.302585\n"
     ]
    }
   ],
   "source": [
    "# First implement the naive softmax loss function with nested loops.\n",
    "# Open the file cs231n/classifiers/softmax.py and implement the\n",
    "# softmax_loss_naive function.\n",
    "\n",
    "from cs231n.classifiers.softmax import softmax_loss_naive, softmax_loss_vectorized\n",
    "import time\n",
    "\n",
    "# Generate a random softmax weight matrix and use it to compute the loss.\n",
    "W = np.random.randn(10, 3073) * 0.0001\n",
    "loss, grad = softmax_loss_naive(W, X_train, y_train, 0.0)\n",
    "\n",
    "# As a rough sanity check, our loss should be something close to -log(0.1).\n",
    "print( 'loss: %f' % loss)\n",
    "print( 'sanity check: %f' % (-np.log(0.1)))"
   ]
  },
  {
   "cell_type": "markdown",
   "metadata": {},
   "source": [
    "## Inline Question 1:\n",
    "Why do we expect our loss to be close to -log(0.1)? Explain briefly.**\n",
    "\n",
    "**Your answer:** *Fill this in*\n"
   ]
  },
  {
   "cell_type": "code",
   "execution_count": 4,
   "metadata": {
    "collapsed": false
   },
   "outputs": [
    {
     "name": "stdout",
     "output_type": "stream",
     "text": [
      "numerical: 3.491654 analytic: 3.491654, relative error: 6.236127e-09\n",
      "numerical: -2.537480 analytic: -2.537480, relative error: 2.804514e-11\n",
      "numerical: 0.518686 analytic: 0.518686, relative error: 6.616578e-08\n",
      "numerical: 0.562007 analytic: 0.562006, relative error: 1.332824e-07\n",
      "numerical: 0.670805 analytic: 0.670805, relative error: 3.365042e-08\n",
      "numerical: -0.097759 analytic: -0.097759, relative error: 8.911308e-07\n",
      "numerical: -1.307480 analytic: -1.307481, relative error: 2.231737e-08\n",
      "numerical: 1.839861 analytic: 1.839861, relative error: 1.029592e-08\n",
      "numerical: 0.582591 analytic: 0.582591, relative error: 1.360442e-07\n",
      "numerical: -1.911840 analytic: -1.911840, relative error: 2.781088e-09\n"
     ]
    }
   ],
   "source": [
    "# Complete the implementation of softmax_loss_naive and implement a (naive)\n",
    "# version of the gradient that uses nested loops.\n",
    "loss, grad = softmax_loss_naive(W, X_train, y_train, 0.0)\n",
    "\n",
    "# As we did for the SVM, use numeric gradient checking as a debugging tool.\n",
    "# The numeric gradient should be close to the analytic gradient.\n",
    "from cs231n.gradient_check import grad_check_sparse\n",
    "f = lambda w: softmax_loss_naive(w, X_train, y_train, 0.0)[0]\n",
    "grad_numerical = grad_check_sparse(f, W, grad, 10)"
   ]
  },
  {
   "cell_type": "code",
   "execution_count": 5,
   "metadata": {
    "collapsed": false
   },
   "outputs": [
    {
     "name": "stdout",
     "output_type": "stream",
     "text": [
      "numerical: 2.040223 analytic: 2.040223, relative error: 1.787598e-08\n",
      "numerical: 1.546110 analytic: 1.546110, relative error: 2.731934e-08\n",
      "numerical: 1.268427 analytic: 1.268427, relative error: 1.317906e-08\n",
      "numerical: 2.850406 analytic: 2.850406, relative error: 1.620630e-08\n",
      "numerical: 0.018812 analytic: 0.018812, relative error: 2.160256e-06\n",
      "numerical: -3.750558 analytic: -3.750558, relative error: 8.982886e-09\n",
      "numerical: -0.505130 analytic: -0.505130, relative error: 1.506835e-07\n",
      "numerical: -1.623453 analytic: -1.623453, relative error: 3.909628e-08\n",
      "numerical: 1.387789 analytic: 1.387789, relative error: 1.562169e-08\n",
      "numerical: -4.699996 analytic: -4.699996, relative error: 3.831529e-09\n"
     ]
    }
   ],
   "source": [
    "# Complete the implementation of softmax_loss_naive and implement a (naive)\n",
    "# version of the gradient that uses nested loops.\n",
    "loss, grad = softmax_loss_vectorized(W, X_train, y_train, 0.0)\n",
    "\n",
    "# As we did for the SVM, use numeric gradient checking as a debugging tool.\n",
    "# The numeric gradient should be close to the analytic gradient.\n",
    "from cs231n.gradient_check import grad_check_sparse\n",
    "f = lambda w: softmax_loss_vectorized(w, X_train, y_train, 0.0)[0]\n",
    "grad_numerical = grad_check_sparse(f, W, grad, 10)"
   ]
  },
  {
   "cell_type": "code",
   "execution_count": 6,
   "metadata": {
    "collapsed": false
   },
   "outputs": [
    {
     "name": "stdout",
     "output_type": "stream",
     "text": [
      "naive loss: 2.455747e+00 computed in 8.539065s\n",
      "vectorized loss: 2.455747e+00 computed in 0.299213s\n",
      "Loss difference: 0.000000\n",
      "Gradient difference: 0.000000\n"
     ]
    }
   ],
   "source": [
    "# Now that we have a naive implementation of the softmax loss function and its gradient,\n",
    "# implement a vectorized version in softmax_loss_vectorized.\n",
    "# The two versions should compute the same results, but the vectorized version should be\n",
    "# much faster.\n",
    "tic = time.time()\n",
    "loss_naive, grad_naive = softmax_loss_naive(W, X_train, y_train, 0.00001)\n",
    "toc = time.time()\n",
    "print( 'naive loss: %e computed in %fs' % (loss_naive, toc - tic))\n",
    "\n",
    "from cs231n.classifiers.softmax import softmax_loss_vectorized\n",
    "tic = time.time()\n",
    "loss_vectorized, grad_vectorized = softmax_loss_vectorized(W, X_train, y_train, 0.00001)\n",
    "toc = time.time()\n",
    "print( 'vectorized loss: %e computed in %fs' % (loss_vectorized, toc - tic))\n",
    "\n",
    "# As we did for the SVM, we use the Frobenius norm to compare the two versions\n",
    "# of the gradient.\n",
    "grad_difference = np.linalg.norm(grad_naive - grad_vectorized, ord='fro')\n",
    "print( 'Loss difference: %f' % np.abs(loss_naive - loss_vectorized))\n",
    "print( 'Gradient difference: %f' % grad_difference)"
   ]
  },
  {
   "cell_type": "code",
   "execution_count": 7,
   "metadata": {
    "collapsed": false
   },
   "outputs": [
    {
     "name": "stdout",
     "output_type": "stream",
     "text": [
      "iteration 0 / 5000: loss 771.985187\n",
      "iteration 100 / 5000: loss 283.556988\n",
      "iteration 200 / 5000: loss 105.088270\n",
      "iteration 300 / 5000: loss 39.706039\n",
      "iteration 400 / 5000: loss 15.901089\n",
      "iteration 500 / 5000: loss 7.140899\n",
      "iteration 600 / 5000: loss 3.907261\n",
      "iteration 700 / 5000: loss 2.770441\n",
      "iteration 800 / 5000: loss 2.322574\n",
      "iteration 900 / 5000: loss 2.210649\n",
      "iteration 1000 / 5000: loss 2.100914\n",
      "iteration 1100 / 5000: loss 2.082681\n",
      "iteration 1200 / 5000: loss 2.088707\n",
      "iteration 1300 / 5000: loss 2.098835\n",
      "iteration 1400 / 5000: loss 2.083971\n",
      "iteration 1500 / 5000: loss 2.086522\n",
      "iteration 1600 / 5000: loss 2.084378\n",
      "iteration 1700 / 5000: loss 2.092600\n",
      "iteration 1800 / 5000: loss 2.042244\n",
      "iteration 1900 / 5000: loss 2.046400\n",
      "iteration 2000 / 5000: loss 2.105950\n",
      "iteration 2100 / 5000: loss 2.070424\n",
      "iteration 2200 / 5000: loss 2.132103\n",
      "iteration 2300 / 5000: loss 2.080588\n",
      "iteration 2400 / 5000: loss 2.077771\n",
      "iteration 2500 / 5000: loss 2.047607\n",
      "iteration 2600 / 5000: loss 2.063835\n",
      "iteration 2700 / 5000: loss 2.050920\n",
      "iteration 2800 / 5000: loss 2.076270\n",
      "iteration 2900 / 5000: loss 2.071667\n",
      "iteration 3000 / 5000: loss 2.030688\n",
      "iteration 3100 / 5000: loss 2.116065\n",
      "iteration 3200 / 5000: loss 2.067558\n",
      "iteration 3300 / 5000: loss 2.035690\n",
      "iteration 3400 / 5000: loss 2.100553\n",
      "iteration 3500 / 5000: loss 2.130812\n",
      "iteration 3600 / 5000: loss 2.098554\n",
      "iteration 3700 / 5000: loss 2.134486\n",
      "iteration 3800 / 5000: loss 2.095371\n",
      "iteration 3900 / 5000: loss 2.097403\n",
      "iteration 4000 / 5000: loss 2.086198\n",
      "iteration 4100 / 5000: loss 2.086240\n",
      "iteration 4200 / 5000: loss 2.129397\n",
      "iteration 4300 / 5000: loss 2.166461\n",
      "iteration 4400 / 5000: loss 2.090391\n",
      "iteration 4500 / 5000: loss 2.048978\n",
      "iteration 4600 / 5000: loss 2.132503\n",
      "iteration 4700 / 5000: loss 2.122017\n",
      "iteration 4800 / 5000: loss 2.104229\n",
      "iteration 4900 / 5000: loss 2.080642\n"
     ]
    }
   ],
   "source": [
    "#Test Train the softmax classifier\n",
    "from cs231n.classifiers import Softmax\n",
    "\n",
    "softmax = Softmax()\n",
    "loss_hist = softmax.train(X_train, y_train, learning_rate=1e-7, reg=5e4, num_iters=5000, verbose=True)"
   ]
  },
  {
   "cell_type": "code",
   "execution_count": 8,
   "metadata": {
    "collapsed": false
   },
   "outputs": [
    {
     "name": "stdout",
     "output_type": "stream",
     "text": [
      "training accuracy: 0.321694\n",
      "validation accuracy: 0.339000\n"
     ]
    },
    {
     "data": {
      "image/png": "[encoded data removed]",
      "text/plain": [
       "<matplotlib.figure.Figure at 0xb56408a780>"
      ]
     },
     "metadata": {},
     "output_type": "display_data"
    }
   ],
   "source": [
    "# Write the LinearSVM.predict function and evaluate the performance on both the\n",
    "# training and validation set\n",
    "plt.plot(loss_hist)\n",
    "plt.xlabel('Iteration number')\n",
    "plt.ylabel('Loss value')\n",
    "\n",
    "y_train_pred = softmax.predict(X_train)\n",
    "print( 'training accuracy: %f' % (np.mean(y_train == y_train_pred), ))\n",
    "y_val_pred = softmax.predict(X_val)\n",
    "print( 'validation accuracy: %f' % (np.mean(y_val == y_val_pred), ))"
   ]
  },
  {
   "cell_type": "code",
   "execution_count": 9,
   "metadata": {
    "collapsed": false
   },
   "outputs": [
    {
     "name": "stdout",
     "output_type": "stream",
     "text": [
      "finished learning rate =  1e-10 \t regularization strength =  10.0\n",
      "finished learning rate =  1e-10 \t regularization strength =  63.095734448\n",
      "finished learning rate =  1e-10 \t regularization strength =  398.107170553\n",
      "finished learning rate =  1e-10 \t regularization strength =  2511.88643151\n",
      "finished learning rate =  1e-10 \t regularization strength =  15848.9319246\n",
      "finished learning rate =  1e-10 \t regularization strength =  100000.0\n",
      "finished learning rate =  7.94328234724e-10 \t regularization strength =  10.0\n",
      "finished learning rate =  7.94328234724e-10 \t regularization strength =  63.095734448\n",
      "finished learning rate =  7.94328234724e-10 \t regularization strength =  398.107170553\n",
      "finished learning rate =  7.94328234724e-10 \t regularization strength =  2511.88643151\n",
      "finished learning rate =  7.94328234724e-10 \t regularization strength =  15848.9319246\n",
      "finished learning rate =  7.94328234724e-10 \t regularization strength =  100000.0\n",
      "finished learning rate =  6.3095734448e-09 \t regularization strength =  10.0\n",
      "finished learning rate =  6.3095734448e-09 \t regularization strength =  63.095734448\n",
      "finished learning rate =  6.3095734448e-09 \t regularization strength =  398.107170553\n",
      "finished learning rate =  6.3095734448e-09 \t regularization strength =  2511.88643151\n",
      "finished learning rate =  6.3095734448e-09 \t regularization strength =  15848.9319246\n",
      "finished learning rate =  6.3095734448e-09 \t regularization strength =  100000.0\n",
      "finished learning rate =  5.01187233627e-08 \t regularization strength =  10.0\n",
      "finished learning rate =  5.01187233627e-08 \t regularization strength =  63.095734448\n",
      "finished learning rate =  5.01187233627e-08 \t regularization strength =  398.107170553\n",
      "finished learning rate =  5.01187233627e-08 \t regularization strength =  2511.88643151\n",
      "finished learning rate =  5.01187233627e-08 \t regularization strength =  15848.9319246\n",
      "finished learning rate =  5.01187233627e-08 \t regularization strength =  100000.0\n",
      "finished learning rate =  3.98107170553e-07 \t regularization strength =  10.0\n",
      "finished learning rate =  3.98107170553e-07 \t regularization strength =  63.095734448\n",
      "finished learning rate =  3.98107170553e-07 \t regularization strength =  398.107170553\n",
      "finished learning rate =  3.98107170553e-07 \t regularization strength =  2511.88643151\n",
      "finished learning rate =  3.98107170553e-07 \t regularization strength =  15848.9319246\n",
      "finished learning rate =  3.98107170553e-07 \t regularization strength =  100000.0\n",
      "finished learning rate =  3.16227766017e-06 \t regularization strength =  10.0\n",
      "finished learning rate =  3.16227766017e-06 \t regularization strength =  63.095734448\n",
      "finished learning rate =  3.16227766017e-06 \t regularization strength =  398.107170553\n",
      "finished learning rate =  3.16227766017e-06 \t regularization strength =  2511.88643151\n",
      "finished learning rate =  3.16227766017e-06 \t regularization strength =  15848.9319246\n",
      "finished learning rate =  3.16227766017e-06 \t regularization strength =  100000.0\n",
      "lr 1.000000e-10 reg 1.000000e+01 train accuracy: 0.112837 val accuracy: 0.120000\n",
      "lr 1.000000e-10 reg 6.309573e+01 train accuracy: 0.096327 val accuracy: 0.090000\n",
      "lr 1.000000e-10 reg 3.981072e+02 train accuracy: 0.138408 val accuracy: 0.154000\n",
      "lr 1.000000e-10 reg 2.511886e+03 train accuracy: 0.094020 val accuracy: 0.099000\n",
      "lr 1.000000e-10 reg 1.584893e+04 train accuracy: 0.096776 val accuracy: 0.115000\n",
      "lr 1.000000e-10 reg 1.000000e+05 train accuracy: 0.121673 val accuracy: 0.132000\n",
      "lr 7.943282e-10 reg 1.000000e+01 train accuracy: 0.142980 val accuracy: 0.170000\n",
      "lr 7.943282e-10 reg 6.309573e+01 train accuracy: 0.111980 val accuracy: 0.131000\n",
      "lr 7.943282e-10 reg 3.981072e+02 train accuracy: 0.091755 val accuracy: 0.087000\n",
      "lr 7.943282e-10 reg 2.511886e+03 train accuracy: 0.136122 val accuracy: 0.133000\n",
      "lr 7.943282e-10 reg 1.584893e+04 train accuracy: 0.116673 val accuracy: 0.130000\n",
      "lr 7.943282e-10 reg 1.000000e+05 train accuracy: 0.104306 val accuracy: 0.120000\n",
      "lr 6.309573e-09 reg 1.000000e+01 train accuracy: 0.196816 val accuracy: 0.185000\n",
      "lr 6.309573e-09 reg 6.309573e+01 train accuracy: 0.180980 val accuracy: 0.160000\n",
      "lr 6.309573e-09 reg 3.981072e+02 train accuracy: 0.192102 val accuracy: 0.185000\n",
      "lr 6.309573e-09 reg 2.511886e+03 train accuracy: 0.188347 val accuracy: 0.225000\n",
      "lr 6.309573e-09 reg 1.584893e+04 train accuracy: 0.200980 val accuracy: 0.207000\n",
      "lr 6.309573e-09 reg 1.000000e+05 train accuracy: 0.293837 val accuracy: 0.312000\n",
      "lr 5.011872e-08 reg 1.000000e+01 train accuracy: 0.269082 val accuracy: 0.259000\n",
      "lr 5.011872e-08 reg 6.309573e+01 train accuracy: 0.265551 val accuracy: 0.291000\n",
      "lr 5.011872e-08 reg 3.981072e+02 train accuracy: 0.284857 val accuracy: 0.324000\n",
      "lr 5.011872e-08 reg 2.511886e+03 train accuracy: 0.313939 val accuracy: 0.305000\n",
      "lr 5.011872e-08 reg 1.584893e+04 train accuracy: 0.364449 val accuracy: 0.381000\n",
      "lr 5.011872e-08 reg 1.000000e+05 train accuracy: 0.309347 val accuracy: 0.324000\n",
      "lr 3.981072e-07 reg 1.000000e+01 train accuracy: 0.362408 val accuracy: 0.346000\n",
      "lr 3.981072e-07 reg 6.309573e+01 train accuracy: 0.369000 val accuracy: 0.344000\n",
      "lr 3.981072e-07 reg 3.981072e+02 train accuracy: 0.400878 val accuracy: 0.389000\n",
      "lr 3.981072e-07 reg 2.511886e+03 train accuracy: 0.398959 val accuracy: 0.407000\n",
      "lr 3.981072e-07 reg 1.584893e+04 train accuracy: 0.361429 val accuracy: 0.372000\n",
      "lr 3.981072e-07 reg 1.000000e+05 train accuracy: 0.300327 val accuracy: 0.309000\n",
      "lr 3.162278e-06 reg 1.000000e+01 train accuracy: 0.417061 val accuracy: 0.373000\n",
      "lr 3.162278e-06 reg 6.309573e+01 train accuracy: 0.434143 val accuracy: 0.401000\n",
      "lr 3.162278e-06 reg 3.981072e+02 train accuracy: 0.415061 val accuracy: 0.403000\n",
      "lr 3.162278e-06 reg 2.511886e+03 train accuracy: 0.374327 val accuracy: 0.373000\n",
      "lr 3.162278e-06 reg 1.584893e+04 train accuracy: 0.304204 val accuracy: 0.327000\n",
      "lr 3.162278e-06 reg 1.000000e+05 train accuracy: 0.237898 val accuracy: 0.250000\n",
      "best validation accuracy achieved during cross-validation: 0.407000\n"
     ]
    }
   ],
   "source": [
    "# Use the validation set to tune hyperparameters (regularization strength and\n",
    "# learning rate). You should experiment with different ranges for the learning\n",
    "# rates and regularization strengths; if you are careful you should be able to\n",
    "# get a classification accuracy of over 0.35 on the validation set.\n",
    "from cs231n.classifiers import Softmax\n",
    "results = {}\n",
    "best_val = -1\n",
    "best_softmax = None\n",
    "learning_rates = np.logspace(-10, -5.5, 6)\n",
    "#[1e-7, 5e-7]\n",
    "regularization_strengths = np.logspace(1, 5, 6)\n",
    "#[5e4, 1e8]\n",
    "\n",
    "################################################################################\n",
    "# TODO:                                                                        #\n",
    "# Use the validation set to set the learning rate and regularization strength. #\n",
    "# This should be identical to the validation that you did for the SVM; save    #\n",
    "# the best trained softmax classifer in best_softmax.                          #\n",
    "################################################################################\n",
    "iterations = 5000\n",
    "\n",
    "import copy\n",
    "\n",
    "for lr in learning_rates:\n",
    "    for rs in regularization_strengths:\n",
    "        softmax = Softmax()\n",
    "        softmax.train(X_train, y_train, learning_rate=lr, reg=rs, num_iters=iterations)\n",
    "        \n",
    "        y_train_pred = softmax.predict(X_train)\n",
    "        y_val_pred   = softmax.predict(X_val)\n",
    "        \n",
    "        accuracy_train = np.mean(y_train == y_train_pred)\n",
    "        accuracy_valid = np.mean(y_val   == y_val_pred)\n",
    "        \n",
    "        results[(lr,rs)] = accuracy_train, accuracy_valid\n",
    "        print('finished learning rate = ',lr, '\\t regularization strength = ',rs)\n",
    "        \n",
    "        if best_val < accuracy_valid:\n",
    "            best_val = accuracy_valid\n",
    "            best_softmax = copy.deepcopy(softmax)\n",
    "        \n",
    "################################################################################\n",
    "#                              END OF YOUR CODE                                #\n",
    "################################################################################\n",
    "    \n",
    "# Print out results.\n",
    "for lr, reg in sorted(results):\n",
    "    train_accuracy, val_accuracy = results[(lr, reg)]\n",
    "    print( 'lr %e reg %e train accuracy: %f val accuracy: %f' % (\n",
    "                lr, reg, train_accuracy, val_accuracy))\n",
    "    \n",
    "print( 'best validation accuracy achieved during cross-validation: %f' % best_val)"
   ]
  },
  {
   "cell_type": "code",
   "execution_count": 10,
   "metadata": {
    "collapsed": false
   },
   "outputs": [
    {
     "name": "stdout",
     "output_type": "stream",
     "text": [
      "softmax on raw pixels final test set accuracy: 0.391000\n"
     ]
    }
   ],
   "source": [
    "# evaluate on test set\n",
    "# Evaluate the best svm on test set\n",
    "y_test_pred = best_softmax.predict(X_test)\n",
    "test_accuracy = np.mean(y_test == y_test_pred)\n",
    "print( 'softmax on raw pixels final test set accuracy: %f' % (test_accuracy, ))"
   ]
  },
  {
   "cell_type": "code",
   "execution_count": 11,
   "metadata": {
    "collapsed": false
   },
   "outputs": [
    {
     "data": {
      "image/png": "[encoded data removed]",
      "text/plain": [
       "<matplotlib.figure.Figure at 0xb5010783c8>"
      ]
     },
     "metadata": {},
     "output_type": "display_data"
    }
   ],
   "source": [
    "# Visualize the learned weights for each class\n",
    "w = best_softmax.W[:,:-1] # strip out the bias\n",
    "w = w.reshape(10, 32, 32, 3)\n",
    "\n",
    "w_min, w_max = np.min(w), np.max(w)\n",
    "\n",
    "classes = ['plane', 'car', 'bird', 'cat', 'deer', 'dog', 'frog', 'horse', 'ship', 'truck']\n",
    "for i in range(10):\n",
    "    plt.subplot(2, 5, i + 1)\n",
    "\n",
    "    # Rescale the weights to be between 0 and 255\n",
    "    wimg = 255.0 * (w[i].squeeze() - w_min) / (w_max - w_min)\n",
    "    plt.imshow(wimg.astype('uint8'))\n",
    "    plt.axis('off')\n",
    "    plt.title(classes[i])"
   ]
  },
  {
   "cell_type": "code",
   "execution_count": null,
   "metadata": {
    "collapsed": true
   },
   "outputs": [],
   "source": []
  }
 ],
 "metadata": {
  "kernelspec": {
   "display_name": "Python 3",
   "language": "python",
   "name": "python3"
  },
  "language_info": {
   "codemirror_mode": {
    "name": "ipython",
    "version": 3
   },
   "file_extension": ".py",
   "mimetype": "text/x-python",
   "name": "python",
   "nbconvert_exporter": "python",
   "pygments_lexer": "ipython3",
   "version": "3.5.1"
  }
 },
 "nbformat": 4,
 "nbformat_minor": 0
}
