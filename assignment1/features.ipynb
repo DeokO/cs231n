{
 "cells": [
  {
   "cell_type": "markdown",
   "metadata": {},
   "source": [
    "# Image features exercise\n",
    "*Complete and hand in this completed worksheet (including its outputs and any supporting code outside of the worksheet) with your assignment submission. For more details see the [assignments page](http://vision.stanford.edu/teaching/cs231n/assignments.html) on the course website.*\n",
    "\n",
    "We have seen that we can achieve reasonable performance on an image classification task by training a linear classifier on the pixels of the input image. In this exercise we will show that we can improve our classification performance by training linear classifiers not on raw pixels but on features that are computed from the raw pixels.\n",
    "\n",
    "All of your work for this exercise will be done in this notebook."
   ]
  },
  {
   "cell_type": "code",
   "execution_count": null,
   "metadata": {
    "collapsed": false
   },
   "outputs": [],
   "source": [
    "import random\n",
    "import numpy as np\n",
    "from cs231n.data_utils import load_CIFAR10\n",
    "import matplotlib.pyplot as plt\n",
    "%matplotlib inline\n",
    "plt.rcParams['figure.figsize'] = (10.0, 8.0) # set default size of plots\n",
    "plt.rcParams['image.interpolation'] = 'nearest'\n",
    "plt.rcParams['image.cmap'] = 'gray'\n",
    "\n",
    "# for auto-reloading extenrnal modules\n",
    "# see http://stackoverflow.com/questions/1907993/autoreload-of-modules-in-ipython\n",
    "%load_ext autoreload\n",
    "%autoreload 2"
   ]
  },
  {
   "cell_type": "markdown",
   "metadata": {},
   "source": [
    "## Load data\n",
    "Similar to previous exercises, we will load CIFAR-10 data from disk."
   ]
  },
  {
   "cell_type": "code",
   "execution_count": null,
   "metadata": {
    "collapsed": false
   },
   "outputs": [],
   "source": [
    "from cs231n.features import color_histogram_hsv, hog_feature\n",
    "\n",
    "def get_CIFAR10_data(num_training=49000, num_validation=1000, num_test=1000):\n",
    "  # Load the raw CIFAR-10 data\n",
    "  cifar10_dir = 'cs231n/datasets/cifar-10-batches-py'\n",
    "  X_train, y_train, X_test, y_test = load_CIFAR10(cifar10_dir)\n",
    "  \n",
    "  # Subsample the data\n",
    "  mask = range(num_training, num_training + num_validation)\n",
    "  X_val = X_train[mask]\n",
    "  y_val = y_train[mask]\n",
    "  mask = range(num_training)\n",
    "  X_train = X_train[mask]\n",
    "  y_train = y_train[mask]\n",
    "  mask = range(num_test)\n",
    "  X_test = X_test[mask]\n",
    "  y_test = y_test[mask]\n",
    "\n",
    "  return X_train, y_train, X_val, y_val, X_test, y_test\n",
    "\n",
    "X_train, y_train, X_val, y_val, X_test, y_test = get_CIFAR10_data()"
   ]
  },
  {
   "cell_type": "markdown",
   "metadata": {},
   "source": [
    "## Extract Features\n",
    "For each image we will compute a Histogram of Oriented\n",
    "Gradients (HOG) as well as a color histogram using the hue channel in HSV\n",
    "color space. We form our final feature vector for each image by concatenating\n",
    "the HOG and color histogram feature vectors.\n",
    "\n",
    "Roughly speaking, HOG should capture the texture of the image while ignoring\n",
    "color information, and the color histogram represents the color of the input\n",
    "image while ignoring texture. As a result, we expect that using both together\n",
    "ought to work better than using either alone. Verifying this assumption would\n",
    "be a good thing to try for the bonus section.\n",
    "\n",
    "The `hog_feature` and `color_histogram_hsv` functions both operate on a single\n",
    "image and return a feature vector for that image. The extract_features\n",
    "function takes a set of images and a list of feature functions and evaluates\n",
    "each feature function on each image, storing the results in a matrix where\n",
    "each column is the concatenation of all feature vectors for a single image."
   ]
  },
  {
   "cell_type": "code",
   "execution_count": null,
   "metadata": {
    "collapsed": true
   },
   "outputs": [],
   "source": [
    "def identity(im):\n",
    "    return im.ravel()"
   ]
  },
  {
   "cell_type": "code",
   "execution_count": null,
   "metadata": {
    "collapsed": false
   },
   "outputs": [],
   "source": [
    "from cs231n.features import *\n",
    "\n",
    "num_color_bins = 64 # Number of bins in the color histogram\n",
    "feature_fns = [hog_feature, lambda img: color_histogram_hsv(img, nbin=num_color_bins)]\n",
    "X_train_feats = extract_features(X_train, feature_fns, verbose=True)\n",
    "X_val_feats = extract_features(X_val, feature_fns)\n",
    "X_test_feats = extract_features(X_test, feature_fns)\n",
    "\n",
    "# Preprocessing: Subtract the mean feature\n",
    "mean_feat = np.mean(X_train_feats, axis=0, keepdims=True)\n",
    "X_train_feats -= mean_feat\n",
    "X_val_feats -= mean_feat\n",
    "X_test_feats -= mean_feat\n",
    "\n",
    "# Preprocessing: Divide by standard deviation. This ensures that each feature\n",
    "# has roughly the same scale.\n",
    "std_feat = np.std(X_train_feats, axis=0, keepdims=True)\n",
    "X_train_feats /= std_feat\n",
    "X_val_feats /= std_feat\n",
    "X_test_feats /= std_feat\n",
    "\n",
    "# Preprocessing: Add a bias dimension\n",
    "X_train_feats = np.hstack([X_train_feats, np.ones((X_train_feats.shape[0], 1))])\n",
    "X_val_feats = np.hstack([X_val_feats, np.ones((X_val_feats.shape[0], 1))])\n",
    "X_test_feats = np.hstack([X_test_feats, np.ones((X_test_feats.shape[0], 1))])"
   ]
  },
  {
   "cell_type": "code",
   "execution_count": null,
   "metadata": {
    "collapsed": false
   },
   "outputs": [],
   "source": [
    "# Use the validation set to tune the learning rate and regularization strength\n",
    "\n",
    "from cs231n.classifiers.linear_classifier import LinearSVM\n",
    "\n",
    "learning_rates = [1e-9, 1e-8, 1e-7]\n",
    "regularization_strengths = [1e5, 1e6, 1e7]\n",
    "\n",
    "results = {}\n",
    "best_val = -1\n",
    "best_svm = None\n",
    "\n",
    "iters = 1500\n",
    "\n",
    "for rate in learning_rates:\n",
    "    for strength in regularization_strengths:\n",
    "        print(\"learning rate\",rate)\n",
    "        print(\"regularization strength\", strength)\n",
    "        svm = LinearSVM()\n",
    "        \n",
    "        #train it\n",
    "        loss_hist = svm.train(X_train_feats, y_train, learning_rate=rate, reg=strength, num_iters=iters, verbose=True, batch_size=200)\n",
    "        \n",
    "        y_train_pred = svm.predict(X_train_feats)\n",
    "        print('training accuracy: %f' % (np.mean(y_train == y_train_pred), ))\n",
    "        y_val_pred = svm.predict(X_val_feats)\n",
    "        print('validation accuracy: %f' % (np.mean(y_val == y_val_pred), ))\n",
    "        \n",
    "        accuracy_train = np.mean(y_train == y_train_pred)\n",
    "        accuracy_valid = np.mean(y_val == y_val_pred)\n",
    "        results[(rate, strength)] = (accuracy_train, accuracy_valid)\n",
    "        \n",
    "        if best_val < accuracy_valid:\n",
    "            best_val = accuracy_valid\n",
    "            best_svm = svm\n",
    "################################################################################\n",
    "#                              END OF YOUR CODE                                #\n",
    "################################################################################\n",
    "\n",
    "# Print out results.\n",
    "for lr, reg in sorted(results):\n",
    "    train_accuracy, val_accuracy = results[(lr, reg)]\n",
    "    print('lr %e reg %e train accuracy: %f val accuracy: %f' % (\n",
    "                lr, reg, train_accuracy, val_accuracy))\n",
    "    \n",
    "print('best validation accuracy achieved during cross-validation: %f' % best_val)"
   ]
  },
  {
   "cell_type": "code",
   "execution_count": null,
   "metadata": {
    "collapsed": false
   },
   "outputs": [],
   "source": [
    "# Evaluate your trained SVM on the test set\n",
    "y_test_pred = best_svm.predict(X_test_feats)\n",
    "test_accuracy = np.mean(y_test == y_test_pred)\n",
    "print(test_accuracy)"
   ]
  },
  {
   "cell_type": "code",
   "execution_count": null,
   "metadata": {
    "collapsed": false
   },
   "outputs": [],
   "source": [
    "from cs231n.features import *\n",
    "\n",
    "num_color_bins = 32 # Number of bins in the color histogram\n",
    "feature_fns = [hog_feature, lambda img: color_histogram_hsv(img, nbin=num_color_bins), identity]\n",
    "X_train_feats = extract_features(X_train, feature_fns, verbose=True)\n",
    "X_val_feats = extract_features(X_val, feature_fns)\n",
    "X_test_feats = extract_features(X_test, feature_fns)\n",
    "\n",
    "# Preprocessing: Subtract the mean feature\n",
    "mean_feat = np.mean(X_train_feats, axis=0, keepdims=True)\n",
    "X_train_feats -= mean_feat\n",
    "X_val_feats -= mean_feat\n",
    "X_test_feats -= mean_feat\n",
    "\n",
    "# Preprocessing: Divide by standard deviation. This ensures that each feature\n",
    "# has roughly the same scale.\n",
    "std_feat = np.std(X_train_feats, axis=0, keepdims=True)\n",
    "X_train_feats /= std_feat\n",
    "X_val_feats /= std_feat\n",
    "X_test_feats /= std_feat\n",
    "\n",
    "# Preprocessing: Add a bias dimension\n",
    "X_train_feats = np.hstack([X_train_feats, np.ones((X_train_feats.shape[0], 1))])\n",
    "X_val_feats = np.hstack([X_val_feats, np.ones((X_val_feats.shape[0], 1))])\n",
    "X_test_feats = np.hstack([X_test_feats, np.ones((X_test_feats.shape[0], 1))])"
   ]
  },
  {
   "cell_type": "markdown",
   "metadata": {},
   "source": [
    "## Train SVM on features\n",
    "Using the multiclass SVM code developed earlier in the assignment, train SVMs on top of the features extracted above; this should achieve better results than training SVMs directly on top of raw pixels."
   ]
  },
  {
   "cell_type": "code",
   "execution_count": null,
   "metadata": {
    "collapsed": false
   },
   "outputs": [],
   "source": [
    "# Use the validation set to tune the learning rate and regularization strength\n",
    "\n",
    "from cs231n.classifiers.linear_classifier import LinearSVM\n",
    "\n",
    "learning_rates = [1e-9, 1e-8, 1e-7]\n",
    "regularization_strengths = [1e5, 1e6, 1e7]\n",
    "\n",
    "results = {}\n",
    "best_val = -1\n",
    "best_svm = None\n",
    "\n",
    "################################################################################\n",
    "# TODO:                                                                        #\n",
    "# Use the validation set to set the learning rate and regularization strength. #\n",
    "# This should be identical to the validation that you did for the SVM; save    #\n",
    "# the best trained classifer in best_svm. You might also want to play          #\n",
    "# with different numbers of bins in the color histogram. If you are careful    #\n",
    "# you should be able to get accuracy of near 0.44 on the validation set.       #\n",
    "################################################################################\n",
    "iters = 1500\n",
    "\n",
    "for rate in learning_rates:\n",
    "    for strength in regularization_strengths:\n",
    "        print(\"learning rate\",rate)\n",
    "        print(\"regularization strength\", strength)\n",
    "        svm = LinearSVM()\n",
    "        \n",
    "        #train it\n",
    "        loss_hist = svm.train(X_train_feats, y_train, learning_rate=rate, reg=strength, num_iters=iters, verbose=True, batch_size=200)\n",
    "        \n",
    "        y_train_pred = svm.predict(X_train_feats)\n",
    "        print('training accuracy: %f' % (np.mean(y_train == y_train_pred), ))\n",
    "        y_val_pred = svm.predict(X_val_feats)\n",
    "        print('validation accuracy: %f' % (np.mean(y_val == y_val_pred), ))\n",
    "        \n",
    "        accuracy_train = np.mean(y_train == y_train_pred)\n",
    "        accuracy_valid = np.mean(y_val == y_val_pred)\n",
    "        results[(rate, strength)] = (accuracy_train, accuracy_valid)\n",
    "        \n",
    "        if best_val < accuracy_valid:\n",
    "            best_val = accuracy_valid\n",
    "            best_svm = svm\n",
    "################################################################################\n",
    "#                              END OF YOUR CODE                                #\n",
    "################################################################################\n",
    "\n",
    "# Print out results.\n",
    "for lr, reg in sorted(results):\n",
    "    train_accuracy, val_accuracy = results[(lr, reg)]\n",
    "    print('lr %e reg %e train accuracy: %f val accuracy: %f' % (\n",
    "                lr, reg, train_accuracy, val_accuracy))\n",
    "    \n",
    "print('best validation accuracy achieved during cross-validation: %f' % best_val)"
   ]
  },
  {
   "cell_type": "code",
   "execution_count": null,
   "metadata": {
    "collapsed": false
   },
   "outputs": [],
   "source": [
    "# Evaluate your trained SVM on the test set\n",
    "y_test_pred = best_svm.predict(X_test_feats)\n",
    "test_accuracy = np.mean(y_test == y_test_pred)\n",
    "print(test_accuracy)"
   ]
  },
  {
   "cell_type": "code",
   "execution_count": null,
   "metadata": {
    "collapsed": false
   },
   "outputs": [],
   "source": [
    "# An important way to gain intuition about how an algorithm works is to\n",
    "# visualize the mistakes that it makes. In this visualization, we show examples\n",
    "# of images that are misclassified by our current system. The first column\n",
    "# shows images that our system labeled as \"plane\" but whose true label is\n",
    "# something other than \"plane\".\n",
    "\n",
    "examples_per_class = 8\n",
    "classes = ['plane', 'car', 'bird', 'cat', 'deer', 'dog', 'frog', 'horse', 'ship', 'truck']\n",
    "for cls, cls_name in enumerate(classes):\n",
    "    idxs = np.where((y_test != cls) & (y_test_pred == cls))[0]\n",
    "    idxs = np.random.choice(idxs, examples_per_class, replace=True)\n",
    "    for i, idx in enumerate(idxs):\n",
    "        plt.subplot(examples_per_class, len(classes), i * len(classes) + cls + 1)\n",
    "        plt.imshow(X_test[idx].astype('uint8'))\n",
    "        plt.axis('off')\n",
    "        if i == 0:\n",
    "            plt.title(cls_name)\n",
    "plt.show()"
   ]
  },
  {
   "cell_type": "markdown",
   "metadata": {},
   "source": [
    "### Inline question 1:\n",
    "The mistakes encountered make sense when we consider input required to create the features. The color histogram feature creates a bias towards images with similar backgrounds or foregrounds as the same class. For example, a deer and other animals photographed against a green/brown background are commonly mis-classified. Similar, the HOG features cause us to put images with similar edges into the same category. The hard edges between car, truck, plane, and ship are quite similar, so the errors make sense."
   ]
  },
  {
   "cell_type": "markdown",
   "metadata": {},
   "source": [
    "## Neural Network on image features\n",
    "Earlier in this assigment we saw that training a two-layer neural network on raw pixels achieved better classification performance than linear classifiers on raw pixels. In this notebook we have seen that linear classifiers on image features outperform linear classifiers on raw pixels. \n",
    "\n",
    "For completeness, we should also try training a neural network on image features. This approach should outperform all previous approaches: you should easily be able to achieve over 55% classification accuracy on the test set; our best model achieves about 60% classification accuracy."
   ]
  },
  {
   "cell_type": "code",
   "execution_count": null,
   "metadata": {
    "collapsed": false
   },
   "outputs": [],
   "source": [
    "print(X_train_feats.shape)"
   ]
  },
  {
   "cell_type": "code",
   "execution_count": null,
   "metadata": {
    "collapsed": false
   },
   "outputs": [],
   "source": [
    "from cs231n.classifiers.neural_net import TwoLayerNet\n",
    "from copy import deepcopy\n",
    "\n",
    "input_dim = X_train_feats.shape[1]\n",
    "hidden_dim = 500\n",
    "num_classes = 10\n",
    "\n",
    "hidden_size_set = [16, 32, 64, 128, 256, 512, 1024]\n",
    "learning_rate   = [ 5e-2, 3e-2, 1e-2, 1e-3]\n",
    "learning_rate_decay = [0.99, 0.97, 0.95, 0.90 ]\n",
    "regularization_strength = [ 0.25, 0.5, 1.0, 1.5]\n",
    "\n",
    "net = TwoLayerNet(input_dim, hidden_dim, num_classes)\n",
    "net.train(X_train_feats, y_train, X_val_feats, y_val,\n",
    "          num_iters=600, batch_size = 200, learning_rate=5e-2,\n",
    "          learning_rate_decay=0.95, reg=0.0, verbose=True)\n",
    "best_net = deepcopy(net)\n",
    "best_acc = (net.predict(X_val_feats) == y_val).mean()\n",
    "\n",
    "################################################################################\n",
    "# TODO: Train a two-layer neural network on image features. You may want to    #\n",
    "# cross-validate various parameters as in previous sections. Store your best   #\n",
    "# model in the best_net variable.                                              #\n",
    "################################################################################\n",
    "for hs in hidden_size_set:\n",
    "    for lr in learning_rate:\n",
    "        net = TwoLayerNet(input_dim, hs, num_classes)\n",
    "\n",
    "        # Train the network\n",
    "        stats = net.train(X_train_feats, y_train, X_val_feats, y_val,\n",
    "                num_iters=1000, batch_size=400,\n",
    "                learning_rate=lr, learning_rate_decay=0.95,\n",
    "                reg=0.05, verbose=True)\n",
    "\n",
    "        # Predict on the validation set\n",
    "        val_acc = (net.predict(X_val_feats) == y_val).mean()\n",
    "        print(\"hs=%d,lr=%f\"%(hs,lr))\n",
    "        print('Validation accuracy: ', val_acc)\n",
    "        #print(net.best_val_acc)\n",
    "        if val_acc > best_acc:\n",
    "            best_acc = val_acc\n",
    "            best_net = deepcopy(net)\n",
    "################################################################################\n",
    "#                              END OF YOUR CODE                                #\n",
    "################################################################################"
   ]
  },
  {
   "cell_type": "code",
   "execution_count": null,
   "metadata": {
    "collapsed": false
   },
   "outputs": [],
   "source": [
    "# Run your neural net classifier on the test set. You should be able to\n",
    "# get more than 55% accuracy.\n",
    "\n",
    "test_acc = (best_net.predict(X_test_feats) == y_test).mean()\n",
    "print(test_acc)"
   ]
  },
  {
   "cell_type": "markdown",
   "metadata": {},
   "source": [
    "# Bonus: Design your own features!\n",
    "\n",
    "You have seen that simple image features can improve classification performance. So far we have tried HOG and color histograms, but other types of features may be able to achieve even better classification performance.\n",
    "\n",
    "For bonus points, design and implement a new type of feature and use it for image classification on CIFAR-10. Explain how your feature works and why you expect it to be useful for image classification. Implement it in this notebook, cross-validate any hyperparameters, and compare its performance to the HOG + Color histogram baseline."
   ]
  },
  {
   "cell_type": "code",
   "execution_count": null,
   "metadata": {
    "collapsed": true
   },
   "outputs": [],
   "source": [
    "\"\"\"Compute the difference of Gaussian Filter feature for an image\n",
    "     \n",
    "        Uses scipy.ndimage.filters.gaussian_filter;\n",
    "\n",
    "      Parameters:\n",
    "        im : an input grayscale or rgb image\n",
    "        i  : size of the standard deviation of the first gaussian_filter\n",
    "        j  : size of the standard deviation of the second gaussian_filter\n",
    "\n",
    "      Returns:\n",
    "        feat: DoG \n",
    "  \"\"\"\n",
    "def dog_ij_feature(im,i=1,j=3,order=0):\n",
    "    if i == j:\n",
    "        raise ValueError(\"i=%d must not be equal to j=%d\" % (i,j))\n",
    "\n",
    "    from scipy.ndimage.filters import gaussian_filter\n",
    "    if im.ndim == 3:\n",
    "        image = rgb2gray(im)\n",
    "    else:\n",
    "        image = np.at_least_2d(im)\n",
    "    sx, sy = image.shape # image size\n",
    "    image_gaussian_i = gaussian_filter(image, sigma=i, order=order, mode='reflect', truncate=3.0)\n",
    "    image_gaussian_j = gaussian_filter(image, sigma=j, order=order, mode='reflect', truncate=3.0)\n",
    "    \n",
    "    return (np.abs(image_gaussian_i - image_gaussian_j)/np.max(image_gaussian_i - image_gaussian_j)).ravel()"
   ]
  },
  {
   "cell_type": "code",
   "execution_count": null,
   "metadata": {
    "collapsed": true
   },
   "outputs": [],
   "source": [
    "def sobel_feature(im, axis=-1):\n",
    "    if im.ndim == 3:\n",
    "        image = rgb2gray(im)\n",
    "    else:\n",
    "        image = np.at_least_2d(im)\n",
    "    from scipy.ndimage.filters import sobel\n",
    "    return sobel(image, axis=axis).ravel()"
   ]
  },
  {
   "cell_type": "code",
   "execution_count": null,
   "metadata": {
    "collapsed": false
   },
   "outputs": [],
   "source": [
    "plt.figure(figsize=(1.5,1.5,))\n",
    "plt.axis('off')\n",
    "plt.imshow(dog_ij_feature(X_train[20],0.01,5,0).reshape(32,32))\n",
    "test_image = dog_ij_feature(X_train[20],0.01,5,0)\n",
    "#test_image[test_image < 0.75] = 0\n",
    "plt.imshow(test_image.reshape(32,32))"
   ]
  },
  {
   "cell_type": "code",
   "execution_count": null,
   "metadata": {
    "collapsed": false
   },
   "outputs": [],
   "source": [
    "import seaborn as sns\n",
    "\n",
    "def dog_ij_feature_threshold(im, i=1, j=3, order=0, threshold=0.5):\n",
    "    if i == j:\n",
    "        raise ValueError(\"i=%d must not be equal to j=%d\" % (i,j))\n",
    "\n",
    "    from scipy.ndimage.filters import gaussian_filter\n",
    "    if im.ndim == 3:\n",
    "        image = rgb2gray(im)\n",
    "    else:\n",
    "        image = np.at_least_2d(im)\n",
    "    sx, sy = image.shape # image size\n",
    "    image_gaussian_i = gaussian_filter(image, sigma=i, order=order, mode='reflect', truncate=3.0)\n",
    "    image_gaussian_j = gaussian_filter(image, sigma=j, order=order, mode='reflect', truncate=3.0)\n",
    "    \n",
    "    dog = (np.abs(image_gaussian_i - image_gaussian_j)/np.max(image_gaussian_i - image_gaussian_j)).ravel()\n",
    "    mean     = np.mean(dog)\n",
    "    std_dev  = np.std(dog)\n",
    "    dog[dog < mean - std_dev * threshold] = 0\n",
    "    return dog\n",
    "\n",
    "\n",
    "def dog_ij_top_n_pixels(im, i=1, j=3, order=0, n_pixels = 20):\n",
    "    idx = im.argsort()[:n_pixels]\n",
    "    return idx\n",
    "\n",
    "\n",
    "n_pixels = dog_ij_top_n_pixels(dog_ij_feature(X_train[20],0.01,5,0),n_pixels = 80)\n",
    "print(np.mean(np.unravel_index(list(n_pixels),(32,32)),axis=1))\n",
    "print(np.std(np.unravel_index(list(n_pixels),(32,32)),axis=1))\n",
    "\n",
    "print(np.unravel_index(list(n_pixels),(32,32)))\n",
    "sns.distplot(np.unravel_index(list(n_pixels),(32,32))[0], hist=False, rug=True, kde_kws = {\"bw\" :2.0})\n",
    "sns.distplot(np.unravel_index(list(n_pixels),(32,32))[1], hist=False, rug=True, kde_kws = {\"bw\" :2.0})\n",
    "\n",
    "plt.figure()\n",
    "sns.kdeplot(np.unravel_index(list(n_pixels),(32,32))[0], np.unravel_index(list(n_pixels),(32,32))[1], shade=True)"
   ]
  },
  {
   "cell_type": "code",
   "execution_count": 66,
   "metadata": {
    "collapsed": false
   },
   "outputs": [
    {
     "ename": "SyntaxError",
     "evalue": "invalid syntax (<ipython-input-66-6f719179e65e>, line 1)",
     "output_type": "error",
     "traceback": [
      "\u001b[1;36m  File \u001b[1;32m\"<ipython-input-66-6f719179e65e>\"\u001b[1;36m, line \u001b[1;32m1\u001b[0m\n\u001b[1;33m    |\u001b[0m\n\u001b[1;37m    ^\u001b[0m\n\u001b[1;31mSyntaxError\u001b[0m\u001b[1;31m:\u001b[0m invalid syntax\n"
     ]
    }
   ],
   "source": [
    "plt.figure(figsize=(1.5,1.5,))\n",
    "plt.axis('off')\n",
    "plt.imshow(dog_ij_feature(X_train[20],1,5,0).reshape(32,32))\n",
    "test_image = dog_ij_feature_threshold(X_train[20],0.01,5,0,0.5)\n",
    "#test_image[test_image < 0.75] = 0\n",
    "plt.imshow(dog_ij_feature(X_train[20],0.1,5,0).reshape(32,32))"
   ]
  },
  {
   "cell_type": "code",
   "execution_count": null,
   "metadata": {
    "collapsed": false
   },
   "outputs": [],
   "source": [
    "plt.figure(figsize=(1.5,1.5,))\n",
    "plt.axis('off')\n",
    "plt.imshow(dog_ij_feature(X_train[20],1,3,0).reshape(32,32))"
   ]
  },
  {
   "cell_type": "code",
   "execution_count": null,
   "metadata": {
    "collapsed": false
   },
   "outputs": [],
   "source": [
    "plt.figure(figsize=(1.5,1.5,))\n",
    "plt.axis('off')\n",
    "plt.imshow(sobel_feature(X_train[20]).reshape(32,32))"
   ]
  },
  {
   "cell_type": "code",
   "execution_count": null,
   "metadata": {
    "collapsed": false
   },
   "outputs": [],
   "source": [
    "# Visualize some examples from the dataset.\n",
    "# We show a few examples of training images from each class.\n",
    "classes = ['plane', 'car', 'bird', 'cat', 'deer', 'dog', 'frog', 'horse', 'ship', 'truck']\n",
    "num_classes = len(classes)\n",
    "samples_per_class = 7\n",
    "for y, cls in enumerate(classes):\n",
    "    idxs = np.flatnonzero(y_train == y)\n",
    "    idxs = np.random.choice(idxs, samples_per_class, replace=False)\n",
    "    for i, idx in enumerate(idxs):\n",
    "        plt_idx = i * num_classes + y + 1\n",
    "        plt.subplot(samples_per_class, num_classes, plt_idx)\n",
    "        plt.imshow(dog_ij_feature(X_train[idx].astype('uint8'),i=1,j=3,order=0).reshape(32,32))\n",
    "        plt.axis('off')\n",
    "        if i == 0:\n",
    "            plt.title(cls)\n",
    "plt.show()"
   ]
  },
  {
   "cell_type": "code",
   "execution_count": null,
   "metadata": {
    "collapsed": false
   },
   "outputs": [],
   "source": [
    "# Visualize some examples from the dataset.\n",
    "# We show a few examples of training images from each class.\n",
    "classes = ['plane', 'car', 'bird', 'cat', 'deer', 'dog', 'frog', 'horse', 'ship', 'truck']\n",
    "num_classes = len(classes)\n",
    "samples_per_class = 7\n",
    "for y, cls in enumerate(classes):\n",
    "    idxs = np.flatnonzero(y_train == y)\n",
    "    idxs = np.random.choice(idxs, samples_per_class, replace=False)\n",
    "    for i, idx in enumerate(idxs):\n",
    "        plt_idx = i * num_classes + y + 1\n",
    "        plt.subplot(samples_per_class, num_classes, plt_idx)\n",
    "        transformed_image = dog_ij_feature(X_train[idx].astype('uint8'),i=0.25,j=5,order=0)\n",
    "        plt.imshow(transformed_image.reshape(32,32))\n",
    "        plt.axis('off')\n",
    "        if i == 0:\n",
    "            plt.title(cls)\n",
    "plt.show()"
   ]
  },
  {
   "cell_type": "code",
   "execution_count": null,
   "metadata": {
    "collapsed": false
   },
   "outputs": [],
   "source": [
    "# Visualize some examples from the dataset.\n",
    "# We show a few examples of training images from each class.\n",
    "classes = ['plane', 'car', 'bird', 'cat', 'deer', 'dog', 'frog', 'horse', 'ship', 'truck']\n",
    "num_classes = len(classes)\n",
    "samples_per_class = 7\n",
    "for y, cls in enumerate(classes):\n",
    "    idxs = np.flatnonzero(y_train == y)\n",
    "    idxs = np.random.choice(idxs, samples_per_class, replace=False)\n",
    "    for i, idx in enumerate(idxs):\n",
    "        plt_idx = i * num_classes + y + 1\n",
    "        plt.subplot(samples_per_class, num_classes, plt_idx)\n",
    "        transformed_image = dog_ij_feature(X_train[idx].astype('uint8'),i=0.25,j=5,order=0)\n",
    "        transformed_image[transformed_image < np.mean(transformed_image) - np.std(transformed_image)] = 0\n",
    "        plt.imshow(transformed_image.reshape(32,32))\n",
    "        plt.axis('off')\n",
    "        if i == 0:\n",
    "            plt.title(cls)\n",
    "plt.show()"
   ]
  },
  {
   "cell_type": "code",
   "execution_count": null,
   "metadata": {
    "collapsed": false
   },
   "outputs": [],
   "source": [
    "# Visualize some examples from the dataset.\n",
    "# We show a few examples of training images from each class.\n",
    "classes = ['plane', 'car', 'bird', 'cat', 'deer', 'dog', 'frog', 'horse', 'ship', 'truck']\n",
    "num_classes = len(classes)\n",
    "samples_per_class = 7\n",
    "for y, cls in enumerate(classes):\n",
    "    idxs = np.flatnonzero(y_train == y)\n",
    "    idxs = np.random.choice(idxs, samples_per_class, replace=False)\n",
    "    for i, idx in enumerate(idxs):\n",
    "        plt_idx = i * num_classes + y + 1\n",
    "        plt.subplot(samples_per_class, num_classes, plt_idx)\n",
    "        plt.imshow(dog_ij_feature(X_train[idx].astype('uint8'),i=1,j=5,order=0).reshape(32,32))\n",
    "        plt.axis('off')\n",
    "        if i == 0:\n",
    "            plt.title(cls)\n",
    "plt.show()"
   ]
  },
  {
   "cell_type": "code",
   "execution_count": null,
   "metadata": {
    "collapsed": false
   },
   "outputs": [],
   "source": [
    "# Visualize some examples from the dataset.\n",
    "# We show a few examples of training images from each class.\n",
    "classes = ['plane', 'car', 'bird', 'cat', 'deer', 'dog', 'frog', 'horse', 'ship', 'truck']\n",
    "num_classes = len(classes)\n",
    "samples_per_class = 7\n",
    "for y, cls in enumerate(classes):\n",
    "    idxs = np.flatnonzero(y_train == y)\n",
    "    idxs = np.random.choice(idxs, samples_per_class, replace=False)\n",
    "    for i, idx in enumerate(idxs):\n",
    "        plt_idx = i * num_classes + y + 1\n",
    "        plt.subplot(samples_per_class, num_classes, plt_idx)\n",
    "        plt.imshow(sobel_feature(X_train[idx].astype('uint8')).reshape(32,32))\n",
    "        plt.axis('off')\n",
    "        if i == 0:\n",
    "            plt.title(cls)\n",
    "plt.show()"
   ]
  },
  {
   "cell_type": "code",
   "execution_count": null,
   "metadata": {
    "collapsed": false
   },
   "outputs": [],
   "source": [
    "def generate_idx(image, count = 64):\n",
    "    size = len(image.ravel())\n",
    "    mask = np.random.random_integers(0, size, count)\n",
    "    return mask\n",
    "\n",
    "def sample_image(image, idx):\n",
    "    return image[idx]\n",
    "\n",
    "def single_color_image(im, color=0):\n",
    "    if im.ndim != 3:\n",
    "        raise ValueError(\"Invalid input image. Expected a numpy array with dim 3 (bgr).\")\n",
    "    if color < 0 or color > 3:\n",
    "        raise ValueError(\"Color should be 0,1,2 (red, green, blue)\")\n",
    "    return im.ravel()[color::3]\n",
    "\n",
    "def single_channel_image(im, color=0):\n",
    "    if im.ndim != 3:\n",
    "        raise ValueError(\"Invalid input image. Expected a numpy array with dim 3 (bgr).\")\n",
    "    if color < 0 or color > 3:\n",
    "        raise ValueError(\"Color should be 0,1,2 (red, green, blue)\")\n",
    "    channel_reduced = np.zeros(im.shape)\n",
    "    channel_reduced[:,:,color] = single_color_image(im, color).reshape((im.shape[0],im.shape[1]))\n",
    "    #return the image back in the same 3-dim format\n",
    "    return channel_reduced\n",
    "\n",
    "def patch_ravel(img, size=3):\n",
    "    from sklearn.feature_extraction import image\n",
    "    patches = image.extract_patches_2d(img, (size,size))\n",
    "    list_of_patches = []\n",
    "    for r in patches:\n",
    "        list_of_patches.append(r.reshape(-1))\n",
    "    return np.array(list_of_patches).ravel()\n",
    "\n",
    "for x in list(range(2,30)):\n",
    "    p = patch_ravel(X_train[1], x)\n",
    "    print(p.shape)\n",
    "    del p\n",
    "    \n",
    "#shape is (number of windows) x (3 * size * size)\n",
    "#dimensionality of patch_ravel is too big for this laptop"
   ]
  },
  {
   "cell_type": "code",
   "execution_count": null,
   "metadata": {
    "collapsed": false
   },
   "outputs": [],
   "source": [
    "feature_fns = [hog_feature,\n",
    "               lambda img: color_histogram_hsv(img, nbin=num_color_bins),\n",
    "               lambda image:  dog_ij_feature(image)]\n",
    "X_train_feats = extract_features(X_train, feature_fns, verbose=True)\n",
    "X_val_feats = extract_features(X_val, feature_fns)\n",
    "X_test_feats = extract_features(X_test, feature_fns)\n",
    "\n",
    "# Preprocessing: Subtract the mean feature\n",
    "mean_feat = np.mean(X_train_feats, axis=0, keepdims=True)\n",
    "X_train_feats_patch -= mean_feat\n",
    "X_val_feats_patch -= mean_feat\n",
    "X_test_feats_patch -= mean_feat\n",
    "\n",
    "# Preprocessing: Divide by standard deviation. This ensures that each feature\n",
    "# has roughly the same scale.\n",
    "std_feat = np.std(X_train_feats, axis=0, keepdims=True)\n",
    "X_train_feats_patch /= std_feat\n",
    "X_val_feats_patch /= std_feat\n",
    "X_test_feats_patch /= std_feat\n",
    "\n",
    "# Preprocessing: Add a bias dimension\n",
    "X_train_feats = np.hstack([X_train_feats, np.ones((X_train_feats.shape[0], 1))])\n",
    "X_val_feats = np.hstack([X_val_feats, np.ones((X_val_feats.shape[0], 1))])\n",
    "X_test_feats = np.hstack([X_test_feats, np.ones((X_test_feats.shape[0], 1))])\n"
   ]
  },
  {
   "cell_type": "code",
   "execution_count": null,
   "metadata": {
    "collapsed": true
   },
   "outputs": [],
   "source": [
    "from cs231n.classifiers.neural_net import TwoLayerNet\n",
    "from copy import deepcopy\n",
    "\n",
    "input_dim = X_train_feats.shape[1]\n",
    "hidden_dim = 500\n",
    "num_classes = 10\n",
    "\n",
    "hidden_size_set = [16, 32, 64, 128, 256, 512, 1024]\n",
    "learning_rate   = [ 5e-2, 3e-2, 1e-2, 1e-3]\n",
    "learning_rate_decay = [0.99, 0.97, 0.95, 0.90 ]\n",
    "regularization_strength = [ 0.25, 0.5, 1.0, 1.5]\n",
    "\n",
    "net = TwoLayerNet(input_dim, hidden_dim, num_classes)\n",
    "net.train(X_train_feats_patch, y_train, X_val_feats_patch, y_val,\n",
    "          num_iters=600, batch_size = 200, learning_rate=1e-2,\n",
    "          learning_rate_decay=0.95, reg=0.0, verbose=True)\n",
    "best_net = deepcopy(net)\n",
    "best_acc = (net.predict(X_val_feats) == y_val).mean()\n"
   ]
  },
  {
   "cell_type": "code",
   "execution_count": null,
   "metadata": {
    "collapsed": false
   },
   "outputs": [],
   "source": [
    "single_color_image(X_train[8],0)\n",
    "test = np.zeros((32,32,3))\n",
    "test[:,:,2] = single_color_image(X_train[5],2).reshape(32,32)\n",
    "#print(test)\n",
    "#plt.imshow(test.astype('uint8'))\n",
    "print(X_train[8].shape)\n",
    "#plt.imshow(single_channel_image(X_train[5],0))\n",
    "plt.imshow(X_train[5].astype('uint8'))\n",
    "print(single_channel_image(X_train[3],1).ndim)\n",
    "# plt.figure()\n",
    "# plt.imshow(dog_ij_feature(single_channel_image(X_train[5],0)).reshape(32,32))\n",
    "# plt.figure()\n",
    "# plt.imshow(dog_ij_feature(single_channel_image(X_train[5],1)).reshape(32,32))\n",
    "# plt.figure()\n",
    "# plt.imshow(dog_ij_feature(single_channel_image(X_train[5],2)).reshape(32,32))\n",
    "\n",
    "plt.figure()\n",
    "channel_isolated_DOG = np.zeros(X_train[5].shape)\n",
    "channel_isolated_DOG[:,:,0] = dog_ij_feature(single_channel_image(X_train[5],0),1,3).reshape(32,32)\n",
    "channel_isolated_DOG[:,:,1] = dog_ij_feature(single_channel_image(X_train[5],1),1,3).reshape(32,32)\n",
    "channel_isolated_DOG[:,:,2] = dog_ij_feature(single_channel_image(X_train[5],2),1,3).reshape(32,32)\n",
    "plt.imshow(channel_isolated_DOG)\n",
    "\n",
    "plt.figure()\n",
    "gray_isolated_DOG = rgb2gray(channel_isolated_DOG)\n",
    "plt.imshow(np.abs(gray_isolated_DOG - dog_ij_feature(X_train[5]).reshape(32,32)))\n",
    "\n",
    "\n",
    "single_channel_dog = dict()\n",
    "for k in range(3):\n",
    "    single_channel_dog[k] = dog_ij_feature(single_channel_image(X_train[5],k),i=1,j=3,order=1)\n",
    "\n",
    "for k in range(3):\n",
    "    print(np.max(single_channel_dog[k]),np.mean(single_channel_dog[k]))\n"
   ]
  },
  {
   "cell_type": "code",
   "execution_count": null,
   "metadata": {
    "collapsed": false
   },
   "outputs": [],
   "source": [
    "num_color_bins = 16 # Number of bins in the color histogram\n",
    "\n",
    "feature_fns = [hog_feature,\n",
    "               lambda img: color_histogram_hsv(img, nbin=num_color_bins),\n",
    "               lambda image:  dog_ij_feature(image),\n",
    "               lambda image0: dog_ij_feature(single_channel_image(image0,0)), \n",
    "               lambda image1: dog_ij_feature(single_channel_image(image1,1)),\n",
    "               lambda image2: dog_ij_feature(single_channel_image(image2,2)), \n",
    "               identity]\n",
    "X_train_feats = extract_features(X_train, feature_fns, verbose=True)\n",
    "X_val_feats = extract_features(X_val, feature_fns)\n",
    "X_test_feats = extract_features(X_test, feature_fns)\n",
    "\n",
    "# Preprocessing: Subtract the mean feature\n",
    "mean_feat = np.mean(X_train_feats, axis=0, keepdims=True)\n",
    "X_train_feats -= mean_feat\n",
    "X_val_feats -= mean_feat\n",
    "X_test_feats -= mean_feat\n",
    "\n",
    "# Preprocessing: Divide by standard deviation. This ensures that each feature\n",
    "# has roughly the same scale.\n",
    "std_feat = np.std(X_train_feats, axis=0, keepdims=True)\n",
    "X_train_feats /= std_feat\n",
    "X_val_feats /= std_feat\n",
    "X_test_feats /= std_feat\n",
    "\n",
    "# Preprocessing: Add a bias dimension\n",
    "X_train_feats = np.hstack([X_train_feats, np.ones((X_train_feats.shape[0], 1))])\n",
    "X_val_feats = np.hstack([X_val_feats, np.ones((X_val_feats.shape[0], 1))])\n",
    "X_test_feats = np.hstack([X_test_feats, np.ones((X_test_feats.shape[0], 1))])"
   ]
  },
  {
   "cell_type": "code",
   "execution_count": null,
   "metadata": {
    "collapsed": false
   },
   "outputs": [],
   "source": [
    "from cs231n.classifiers import LinearSVM\n",
    "import time\n",
    "svm = LinearSVM()\n",
    "tic = time.time()\n",
    "loss_hist = svm.train(X_train_feats, y_train, learning_rate=1e-7, reg=5e4, num_iters=5000, verbose=True)\n",
    "toc = time.time()\n",
    "print('That took %fs' % (toc - tic))\n",
    "# A useful debugging strategy is to plot the loss as a function of\n",
    "# iteration number:\n",
    "plt.plot(loss_hist)\n",
    "plt.xlabel('Iteration number')\n",
    "plt.ylabel('Loss value')"
   ]
  },
  {
   "cell_type": "code",
   "execution_count": null,
   "metadata": {
    "collapsed": false
   },
   "outputs": [],
   "source": [
    "y_test_pred = svm.predict(X_test_feats)\n",
    "test_accuracy = np.mean(y_test == y_test_pred)\n",
    "print(test_accuracy)"
   ]
  },
  {
   "cell_type": "code",
   "execution_count": null,
   "metadata": {
    "collapsed": true
   },
   "outputs": [],
   "source": []
  },
  {
   "cell_type": "markdown",
   "metadata": {},
   "source": [
    "# Bonus: Do something extra!\n",
    "Use the material and code we have presented in this assignment to do something interesting. Was there another question we should have asked? Did any cool ideas pop into your head as you were working on the assignment? This is your chance to show off!"
   ]
  }
 ],
 "metadata": {
  "kernelspec": {
   "display_name": "Python 3",
   "language": "python",
   "name": "python3"
  },
  "language_info": {
   "codemirror_mode": {
    "name": "ipython",
    "version": 3
   },
   "file_extension": ".py",
   "mimetype": "text/x-python",
   "name": "python",
   "nbconvert_exporter": "python",
   "pygments_lexer": "ipython3",
   "version": "3.4.4"
  }
 },
 "nbformat": 4,
 "nbformat_minor": 0
}
