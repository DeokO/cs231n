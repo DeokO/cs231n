{
 "metadata": {
  "kernelspec": {
   "display_name": "Python 3",
   "language": "python",
   "name": "python3"
  },
  "language_info": {
   "codemirror_mode": {
    "name": "ipython",
    "version": 3
   },
   "file_extension": ".py",
   "mimetype": "text/x-python",
   "name": "python",
   "nbconvert_exporter": "python",
   "pygments_lexer": "ipython3",
   "version": "3.5.1"
  },
  "name": ""
 },
 "nbformat": 3,
 "nbformat_minor": 0,
 "worksheets": [
  {
   "cells": [
    {
     "cell_type": "markdown",
     "metadata": {},
     "source": [
      "# Softmax exercise\n",
      "\n",
      "*Complete and hand in this completed worksheet (including its outputs and any supporting code outside of the worksheet) with your assignment submission. For more details see the [assignments page](http://vision.stanford.edu/teaching/cs231n/assignments.html) on the course website.*\n",
      "\n",
      "This exercise is analogous to the SVM exercise. You will:\n",
      "\n",
      "- implement a fully-vectorized **loss function** for the Softmax classifier\n",
      "- implement the fully-vectorized expression for its **analytic gradient**\n",
      "- **check your implementation** with numerical gradient\n",
      "- use a validation set to **tune the learning rate and regularization** strength\n",
      "- **optimize** the loss function with **SGD**\n",
      "- **visualize** the final learned weights\n"
     ]
    },
    {
     "cell_type": "code",
     "collapsed": false,
     "input": [
      "import random\n",
      "import numpy as np\n",
      "from cs231n.data_utils import load_CIFAR10\n",
      "import matplotlib.pyplot as plt\n",
      "%matplotlib inline\n",
      "plt.rcParams['figure.figsize'] = (10.0, 8.0) # set default size of plots\n",
      "plt.rcParams['image.interpolation'] = 'nearest'\n",
      "plt.rcParams['image.cmap'] = 'gray'\n",
      "\n",
      "# for auto-reloading extenrnal modules\n",
      "# see http://stackoverflow.com/questions/1907993/autoreload-of-modules-in-ipython\n",
      "%load_ext autoreload\n",
      "%autoreload 2"
     ],
     "language": "python",
     "metadata": {},
     "outputs": [],
     "prompt_number": 1
    },
    {
     "cell_type": "code",
     "collapsed": false,
     "input": [
      "def get_CIFAR10_data(num_training=49000, num_validation=1000, num_test=1000, num_dev=500):\n",
      "    \"\"\"\n",
      "    Load the CIFAR-10 dataset from disk and perform preprocessing to prepare\n",
      "    it for the linear classifier. These are the same steps as we used for the\n",
      "    SVM, but condensed to a single function.  \n",
      "    \"\"\"\n",
      "    # Load the raw CIFAR-10 data\n",
      "    cifar10_dir = 'cs231n/datasets/cifar-10-batches-py'\n",
      "    X_train, y_train, X_test, y_test = load_CIFAR10(cifar10_dir)\n",
      "\n",
      "    # subsample the data\n",
      "    mask = range(num_training, num_training + num_validation)\n",
      "    X_val = X_train[mask]\n",
      "    y_val = y_train[mask]\n",
      "    mask = range(num_training)\n",
      "    X_train = X_train[mask]\n",
      "    y_train = y_train[mask]\n",
      "    mask = range(num_test)\n",
      "    X_test = X_test[mask]\n",
      "    y_test = y_test[mask]\n",
      "    mask = np.random.choice(num_training, num_dev, replace=False)\n",
      "    X_dev = X_train[mask]\n",
      "    y_dev = y_train[mask]\n",
      "\n",
      "    # Preprocessing: reshape the image data into rows\n",
      "    X_train = np.reshape(X_train, (X_train.shape[0], -1))\n",
      "    X_val = np.reshape(X_val, (X_val.shape[0], -1))\n",
      "    X_test = np.reshape(X_test, (X_test.shape[0], -1))\n",
      "    X_dev = np.reshape(X_dev, (X_dev.shape[0], -1))\n",
      "\n",
      "    # Normalize the data: subtract the mean image\n",
      "    mean_image = np.mean(X_train, axis = 0)\n",
      "    X_train -= mean_image\n",
      "    X_val   -= mean_image\n",
      "    X_test  -= mean_image\n",
      "    X_dev   -= mean_image\n",
      "\n",
      "    # Preprocessing: Divide by standard deviation. This ensures that each feature\n",
      "    # has roughly the same scale.\n",
      "    std_feat = np.std(X_train, axis=0, keepdims=True)\n",
      "    X_train /= std_feat\n",
      "    X_val   /= std_feat\n",
      "    X_test  /= std_feat\n",
      "\n",
      "    # add bias dimension and transform into columns\n",
      "    X_train = np.hstack([X_train, np.ones((X_train.shape[0], 1))])\n",
      "    X_val = np.hstack([X_val, np.ones((X_val.shape[0], 1))])\n",
      "    X_test = np.hstack([X_test, np.ones((X_test.shape[0], 1))])\n",
      "    X_dev = np.hstack([X_dev, np.ones((X_dev.shape[0], 1))])\n",
      "\n",
      "    return X_train, y_train, X_val, y_val, X_test, y_test, X_dev, y_dev\n",
      "\n",
      "\n",
      "# Invoke the above function to get our data.\n",
      "X_train, y_train, X_val, y_val, X_test, y_test, X_dev, y_dev = get_CIFAR10_data()\n",
      "print('Train data shape: ', X_train.shape)\n",
      "print('Train labels shape: ', y_train.shape)\n",
      "print('Validation data shape: ', X_val.shape)\n",
      "print('Validation labels shape: ', y_val.shape)\n",
      "print('Test data shape: ', X_test.shape)\n",
      "print('Test labels shape: ', y_test.shape)\n",
      "print('dev data shape: ', X_dev.shape)\n",
      "print('dev labels shape: ', y_dev.shape)"
     ],
     "language": "python",
     "metadata": {},
     "outputs": [
      {
       "output_type": "stream",
       "stream": "stdout",
       "text": [
        "Train data shape:  (49000, 3073)\n",
        "Train labels shape:  (49000,)\n",
        "Validation data shape:  (1000, 3073)\n",
        "Validation labels shape:  (1000,)\n",
        "Test data shape:  (1000, 3073)\n",
        "Test labels shape:  (1000,)\n",
        "dev data shape:  (500, 3073)\n",
        "dev labels shape:  (500,)\n"
       ]
      }
     ],
     "prompt_number": 2
    },
    {
     "cell_type": "markdown",
     "metadata": {},
     "source": [
      "## Softmax Classifier\n",
      "\n",
      "Your code for this section will all be written inside **cs231n/classifiers/softmax.py**. \n"
     ]
    },
    {
     "cell_type": "code",
     "collapsed": false,
     "input": [
      "# First implement the naive softmax loss function with nested loops.\n",
      "# Open the file cs231n/classifiers/softmax.py and implement the\n",
      "# softmax_loss_naive function.\n",
      "\n",
      "from cs231n.classifiers.softmax import softmax_loss_naive\n",
      "import time\n",
      "\n",
      "# Generate a random softmax weight matrix and use it to compute the loss.\n",
      "W = np.random.randn(3073, 10) * 0.0001\n",
      "loss, grad = softmax_loss_naive(W, X_dev, y_dev, 0.0)\n",
      "\n",
      "# As a rough sanity check, our loss should be something close to -log(0.1).\n",
      "print('loss: %f' % loss)\n",
      "print('sanity check: %f' % (-np.log(0.1)))"
     ],
     "language": "python",
     "metadata": {},
     "outputs": [
      {
       "output_type": "stream",
       "stream": "stdout",
       "text": [
        "loss: 2.353282\n",
        "sanity check: 2.302585\n"
       ]
      }
     ],
     "prompt_number": 3
    },
    {
     "cell_type": "markdown",
     "metadata": {},
     "source": [
      "## Inline Question 1:\n",
      "Why do we expect our loss to be close to -log(0.1)? Explain briefly.**\n",
      "\n",
      "**Your answer:**  Randomly guessing a class should occur with about a 10% probablity (hence -log(0.1)).\n"
     ]
    },
    {
     "cell_type": "code",
     "collapsed": false,
     "input": [
      "# Complete the implementation of softmax_loss_naive and implement a (naive)\n",
      "# version of the gradient that uses nested loops.\n",
      "loss, grad = softmax_loss_naive(W, X_dev, y_dev, 0.0)\n",
      "\n",
      "# As we did for the SVM, use numeric gradient checking as a debugging tool.\n",
      "# The numeric gradient should be close to the analytic gradient.\n",
      "from cs231n.gradient_check import grad_check_sparse\n",
      "f = lambda w: softmax_loss_naive(w, X_dev, y_dev, 0.0)[0]\n",
      "grad_numerical = grad_check_sparse(f, W, grad, 10)\n",
      "\n",
      "# similar to SVM case, do another gradient check with regularization\n",
      "loss, grad = softmax_loss_naive(W, X_dev, y_dev, 1e2)\n",
      "f = lambda w: softmax_loss_naive(w, X_dev, y_dev, 1e2)[0]\n",
      "grad_numerical = grad_check_sparse(f, W, grad, 10)"
     ],
     "language": "python",
     "metadata": {},
     "outputs": [
      {
       "output_type": "stream",
       "stream": "stdout",
       "text": [
        "numerical: -5.430678 analytic: -5.430678, relative error: 1.955119e-09\n",
        "numerical: 0.635191 analytic: 0.635191, relative error: 1.346772e-07\n",
        "numerical: 3.019253 analytic: 3.019253, relative error: 2.855676e-08\n",
        "numerical: 0.906610 analytic: 0.906610, relative error: 5.898457e-08\n",
        "numerical: -0.353854 analytic: -0.353854, relative error: 2.264930e-07\n",
        "numerical: 4.052805 analytic: 4.052805, relative error: 9.127716e-09\n",
        "numerical: -1.779628 analytic: -1.779628, relative error: 1.521917e-08\n",
        "numerical: 1.801399 analytic: 1.801399, relative error: 3.407259e-08\n",
        "numerical: -4.130737 analytic: -4.130737, relative error: 7.674839e-09\n",
        "numerical: 4.513948 analytic: 4.513948, relative error: 1.849662e-08\n",
        "numerical: 0.127311 analytic: 0.127311, relative error: 1.477695e-07\n",
        "numerical: -0.361022 analytic: -0.361022, relative error: 1.062403e-08\n",
        "numerical: 0.199200 analytic: 0.199200, relative error: 8.335803e-08\n",
        "numerical: 3.255796 analytic: 3.255796, relative error: 2.078976e-08\n",
        "numerical: 1.414334 analytic: 1.414334, relative error: 1.013782e-08\n",
        "numerical: 3.081635 analytic: 3.081635, relative error: 2.186384e-08\n",
        "numerical: 0.185670 analytic: 0.185670, relative error: 2.241613e-07\n",
        "numerical: 1.260569 analytic: 1.260569, relative error: 3.836316e-08\n",
        "numerical: 0.139594 analytic: 0.139594, relative error: 1.071514e-07\n",
        "numerical: 3.286756 analytic: 3.286756, relative error: 2.952595e-08\n"
       ]
      }
     ],
     "prompt_number": 4
    },
    {
     "cell_type": "code",
     "collapsed": false,
     "input": [
      "# Now that we have a naive implementation of the softmax loss function and its gradient,\n",
      "# implement a vectorized version in softmax_loss_vectorized.\n",
      "# The two versions should compute the same results, but the vectorized version should be\n",
      "# much faster.\n",
      "tic = time.time()\n",
      "loss_naive, grad_naive = softmax_loss_naive(W, X_dev, y_dev, 0.00001)\n",
      "toc = time.time()\n",
      "print('naive loss: %e computed in %fs' % (loss_naive, toc - tic))\n",
      "\n",
      "from cs231n.classifiers.softmax import softmax_loss_vectorized\n",
      "tic = time.time()\n",
      "loss_vectorized, grad_vectorized = softmax_loss_vectorized(W, X_dev, y_dev, 0.00001)\n",
      "toc = time.time()\n",
      "print('vectorized loss: %e computed in %fs' % (loss_vectorized, toc - tic))\n",
      "\n",
      "# As we did for the SVM, we use the Frobenius norm to compare the two versions\n",
      "# of the gradient.\n",
      "grad_difference = np.linalg.norm(grad_naive - grad_vectorized, ord='fro')\n",
      "print('Loss difference: %f' % np.abs(loss_naive - loss_vectorized))\n",
      "print('Gradient difference: %f' % grad_difference)"
     ],
     "language": "python",
     "metadata": {},
     "outputs": [
      {
       "output_type": "stream",
       "stream": "stdout",
       "text": [
        "naive loss: 2.353282e+00 computed in 0.150107s\n",
        "vectorized loss: 2.353282e+00 computed in 0.010009s\n",
        "Loss difference: 0.000000\n",
        "Gradient difference: 0.000000\n"
       ]
      }
     ],
     "prompt_number": 5
    },
    {
     "cell_type": "code",
     "collapsed": false,
     "input": [
      "# Use the validation set to tune hyperparameters (regularization strength and\n",
      "# learning rate). You should experiment with different ranges for the learning\n",
      "# rates and regularization strengths; if you are careful you should be able to\n",
      "# get a classification accuracy of over 0.35 on the validation set.\n",
      "from cs231n.classifiers import Softmax\n",
      "results = {}\n",
      "best_val = -1\n",
      "best_softmax = None\n",
      "learning_rates = [1e-8, 5e-7, 1e-6, 1e-5]\n",
      "regularization_strengths = [1e3, 5e3, 1e4, 5e4]\n",
      "\n",
      "################################################################################\n",
      "# TODO:                                                                        #\n",
      "# Use the validation set to set the learning rate and regularization strength. #\n",
      "# This should be identical to the validation that you did for the SVM; save    #\n",
      "# the best trained softmax classifer in best_softmax.                          #\n",
      "################################################################################\n",
      "from copy import deepcopy\n",
      "iters = 4000 #100\n",
      "for lr in learning_rates:\n",
      "    for rs in regularization_strengths:\n",
      "        print(\"learning rate = %.4g, regularization strength = %.4g\" % (lr,rs))\n",
      "        softmax = Softmax()\n",
      "        softmax.train(X_train, y_train, learning_rate=lr, reg=rs, num_iters=iters, verbose=False)\n",
      "        \n",
      "        y_train_pred = softmax.predict(X_train)\n",
      "        acc_train = np.mean(y_train == y_train_pred)\n",
      "        y_val_pred = softmax.predict(X_val)\n",
      "        acc_val = np.mean(y_val == y_val_pred)\n",
      "        \n",
      "        results[(lr, rs)] = (acc_train, acc_val)\n",
      "        \n",
      "        if best_val < acc_val:\n",
      "            best_val = acc_val\n",
      "            best_softmax = deepcopy(softmax)\n",
      "################################################################################\n",
      "#                              END OF YOUR CODE                                #\n",
      "################################################################################\n",
      "    \n",
      "# Print out results.\n",
      "for lr, reg in sorted(results):\n",
      "    train_accuracy, val_accuracy = results[(lr, reg)]\n",
      "    print('lr %.4g reg %.4g train accuracy: %f val accuracy: %f' % (\n",
      "                lr, reg, train_accuracy, val_accuracy))\n",
      "    \n",
      "print('best validation accuracy achieved during cross-validation: %f' % best_val)"
     ],
     "language": "python",
     "metadata": {},
     "outputs": [
      {
       "output_type": "stream",
       "stream": "stdout",
       "text": [
        "learning rate = 1e-08, regularization strength = 1000\n",
        "learning rate = 1e-08, regularization strength = 5000\n",
        "learning rate = 1e-08, regularization strength = 1e+04\n",
        "learning rate = 1e-08, regularization strength = 5e+04\n",
        "learning rate = 5e-07, regularization strength = 1000\n",
        "learning rate = 5e-07, regularization strength = 5000\n",
        "learning rate = 5e-07, regularization strength = 1e+04\n",
        "learning rate = 5e-07, regularization strength = 5e+04\n",
        "learning rate = 1e-06, regularization strength = 1000\n",
        "learning rate = 1e-06, regularization strength = 5000\n",
        "learning rate = 1e-06, regularization strength = 1e+04\n",
        "learning rate = 1e-06, regularization strength = 5e+04\n",
        "learning rate = 1e-05, regularization strength = 1000\n",
        "learning rate = 1e-05, regularization strength = 5000\n",
        "learning rate = 1e-05, regularization strength = 1e+04\n",
        "learning rate = 1e-05, regularization strength = 5e+04\n",
        "lr 1e-08 reg 1000 train accuracy: 0.148735 val accuracy: 0.145000\n",
        "lr 1e-08 reg 5000 train accuracy: 0.237776 val accuracy: 0.239000\n",
        "lr 1e-08 reg 1e+04 train accuracy: 0.250122 val accuracy: 0.261000\n",
        "lr 1e-08 reg 5e+04 train accuracy: 0.247857 val accuracy: 0.257000\n",
        "lr 5e-07 reg 1000 train accuracy: 0.253327 val accuracy: 0.265000\n",
        "lr 5e-07 reg 5000 train accuracy: 0.246143 val accuracy: 0.263000\n",
        "lr 5e-07 reg 1e+04 train accuracy: 0.250388 val accuracy: 0.265000\n",
        "lr 5e-07 reg 5e+04 train accuracy: 0.243714 val accuracy: 0.233000\n",
        "lr 1e-06 reg 1000 train accuracy: 0.247980 val accuracy: 0.263000\n",
        "lr 1e-06 reg 5000 train accuracy: 0.242204 val accuracy: 0.253000\n",
        "lr 1e-06 reg 1e+04 train accuracy: 0.261531 val accuracy: 0.278000\n",
        "lr 1e-06 reg 5e+04 train accuracy: 0.236286 val accuracy: 0.242000\n",
        "lr 1e-05 reg 1000 train accuracy: 0.263020 val accuracy: 0.271000\n",
        "lr 1e-05 reg 5000 train accuracy: 0.240918 val accuracy: 0.264000\n",
        "lr 1e-05 reg 1e+04 train accuracy: 0.216551 val accuracy: 0.215000\n",
        "lr 1e-05 reg 5e+04 train accuracy: 0.202224 val accuracy: 0.206000\n",
        "best validation accuracy achieved during cross-validation: 0.278000\n"
       ]
      }
     ],
     "prompt_number": 6
    },
    {
     "cell_type": "code",
     "collapsed": false,
     "input": [
      "# evaluate on test set\n",
      "# Evaluate the best softmax on test set\n",
      "y_test_pred = best_softmax.predict(X_test)\n",
      "test_accuracy = np.mean(y_test == y_test_pred)\n",
      "print('softmax on raw pixels final test set accuracy: %f' % (test_accuracy, ))"
     ],
     "language": "python",
     "metadata": {},
     "outputs": [
      {
       "output_type": "stream",
       "stream": "stdout",
       "text": [
        "softmax on raw pixels final test set accuracy: 0.277000\n"
       ]
      }
     ],
     "prompt_number": 7
    },
    {
     "cell_type": "code",
     "collapsed": false,
     "input": [
      "# Visualize the learned weights for each class\n",
      "w = best_softmax.W[:-1,:] # strip out the bias\n",
      "w = w.reshape(32, 32, 3, 10)\n",
      "\n",
      "w_min, w_max = np.min(w), np.max(w)\n",
      "\n",
      "classes = ['plane', 'car', 'bird', 'cat', 'deer', 'dog', 'frog', 'horse', 'ship', 'truck']\n",
      "for i in range(10):\n",
      "    plt.subplot(2, 5, i + 1)\n",
      "\n",
      "    # Rescale the weights to be between 0 and 255\n",
      "    wimg = 255.0 * (w[:, :, :, i].squeeze() - w_min) / (w_max - w_min)\n",
      "    plt.imshow(wimg.astype('uint8'))\n",
      "    plt.axis('off')\n",
      "    plt.title(classes[i])"
     ],
     "language": "python",
     "metadata": {},
     "outputs": [
      {
       "metadata": {},
       "output_type": "display_data",
       "png": "[encoded data removed]",
       "text": [
        "<matplotlib.figure.Figure at 0x86bcb32d68>"
       ]
      }
     ],
     "prompt_number": 8
    },
    {
     "cell_type": "code",
     "collapsed": true,
     "input": [],
     "language": "python",
     "metadata": {},
     "outputs": [],
     "prompt_number": null
    }
   ],
   "metadata": {}
  }
 ]
}